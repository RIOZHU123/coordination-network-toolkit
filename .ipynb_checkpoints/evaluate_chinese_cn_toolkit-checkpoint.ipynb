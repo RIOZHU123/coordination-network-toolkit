{
 "cells": [
  {
   "cell_type": "code",
   "execution_count": 1,
   "metadata": {},
   "outputs": [],
   "source": [
    "import coordination_network_toolkit as coord_net_tk\n",
    "import networkx as nx\n",
    "from coordination_network_toolkit.database import COMMAND_TABLE_MAPPING\n",
    "import sqlite3 as lite\n",
    "import re\n",
    "import regex"
   ]
  },
  {
   "cell_type": "code",
   "execution_count": 3,
   "metadata": {},
   "outputs": [
    {
     "name": "stdout",
     "output_type": "stream",
     "text": [
      "Begin preprocessing /Users/guangnanzhu/Desktop/Projects/DECRA-coordnet-nectar/Dataset/Weibo/ukr-rus/result/乌克兰/preprocess.csv into ukraine_weibo.db\n",
      "Done preprocessing /Users/guangnanzhu/Desktop/Projects/DECRA-coordnet-nectar/Dataset/Weibo/ukr-rus/result/乌克兰/preprocess.csv into ukraine_weibo.db\n"
     ]
    }
   ],
   "source": [
    "json_filename = \"/Users/guangnanzhu/Desktop/Projects/CN Toolkit/rio-conet/coordination-network-toolkit/dataset_test/PeopleDaily-toy-dataset/shanghai_covid.json\"\n",
    "\n",
    "csv_filename = \"/Users/guangnanzhu/Desktop/Projects/CN Toolkit/rio-conet/coordination-network-toolkit/dataset_test/preprocess_ukr_weibo.csv\"\n",
    "\n",
    "ori_csv_filename = \"/Users/guangnanzhu/Desktop/Projects/DECRA-coordnet-nectar/Dataset/Weibo/ukr-rus/result/乌克兰/乌克兰.csv\"\n",
    "\n",
    "save_directory = '/Users/guangnanzhu/Desktop/Projects/CN Toolkit/rio-conet/coordination-network-toolkit/dataset_test/'\n",
    "\n",
    "db_name = save_directory + \"ukraine_weibo.db\"\n",
    "\n",
    "coord_net_tk.preprocess.preprocess_weibo_data(ori_csv_filename, csv_filename)\n",
    "\n",
    "coord_net_tk.preprocess.preprocess_csv_files(db_name, [csv_filename])"
   ]
  },
  {
   "cell_type": "code",
   "execution_count": 4,
   "metadata": {},
   "outputs": [
    {
     "name": "stdout",
     "output_type": "stream",
     "text": [
      "Applying text normalisation for cotweet\n",
      "Ensuring the necessary indexes exists\n",
      "computing co_tweet network\n",
      "Completed 5 / 41\n",
      "Completed 10 / 41\n",
      "Completed 15 / 41\n",
      "Completed 20 / 41\n",
      "Completed 25 / 41\n",
      "Completed 30 / 41\n",
      "Completed 35 / 41\n",
      "Completed 40 / 41\n",
      "Completed 41 / 41\n"
     ]
    },
    {
     "data": {
      "text/plain": [
       "41"
      ]
     },
     "execution_count": 4,
     "metadata": {},
     "output_type": "execute_result"
    }
   ],
   "source": [
    "coord_net_tk.compute_networks.compute_co_tweet_network(db_name, 60)"
   ]
  },
  {
   "cell_type": "code",
   "execution_count": 10,
   "metadata": {},
   "outputs": [],
   "source": [
    "command = \"co_tweet\""
   ]
  },
  {
   "cell_type": "code",
   "execution_count": 5,
   "metadata": {},
   "outputs": [],
   "source": [
    "similarity_graph = coord_net_tk.graph.load_networkx_graph(db_name, command)"
   ]
  },
  {
   "cell_type": "code",
   "execution_count": 101,
   "metadata": {},
   "outputs": [],
   "source": [
    "coord_net_tk.output.output_gephi_csv(db_name, command, str(save_directory + 'ukraine_weibo_network.csv'))"
   ]
  },
  {
   "cell_type": "code",
   "execution_count": null,
   "metadata": {},
   "outputs": [],
   "source": [
    "coord_net_tk.output.output_node_csv(db_name, command, str(save_directory + 'ukraine_weibo_network.node.csv'))"
   ]
  },
  {
   "cell_type": "code",
   "execution_count": 6,
   "metadata": {},
   "outputs": [],
   "source": [
    "coord_net_tk.output.output_graphml(db_name, command, str(save_directory + 'ukraine_weibo.graphml'))"
   ]
  },
  {
   "cell_type": "code",
   "execution_count": null,
   "metadata": {},
   "outputs": [],
   "source": []
  },
  {
   "cell_type": "code",
   "execution_count": null,
   "metadata": {},
   "outputs": [],
   "source": []
  },
  {
   "cell_type": "code",
   "execution_count": 11,
   "metadata": {},
   "outputs": [
    {
     "name": "stdout",
     "output_type": "stream",
     "text": [
      "('1003050992', '2315604141', 1, 'co_tweet')\n",
      "('1074337642', '1401286675', 1, 'co_tweet')\n",
      "('1074337642', '1460923302', 1, 'co_tweet')\n",
      "('1074337642', '1685591353', 1, 'co_tweet')\n",
      "('1074337642', '1751501125', 1, 'co_tweet')\n",
      "('1074337642', '1921805223', 1, 'co_tweet')\n",
      "('1074337642', '2202735170', 1, 'co_tweet')\n",
      "('1074337642', '2245177021', 1, 'co_tweet')\n",
      "('1074337642', '2369213632', 1, 'co_tweet')\n",
      "('1074337642', '2719233071', 1, 'co_tweet')\n",
      "Number of Edges: 608\n"
     ]
    }
   ],
   "source": [
    "edges = coord_net_tk.graph.get_edge_rows(db_name, command)\n",
    "counter = 0\n",
    "for e in edges:\n",
    "    if counter < 10:\n",
    "        print(e)  \n",
    "    counter += 1\n",
    "print(\"Number of Edges: \" + str(counter))"
   ]
  },
  {
   "cell_type": "code",
   "execution_count": 12,
   "metadata": {},
   "outputs": [
    {
     "name": "stdout",
     "output_type": "stream",
     "text": [
      "['1000124571', '布道宽窄', '宽窄观察#俄罗斯乌克兰局势#【马斯克放言让俄核武哑火】', '宽窄观察#俄罗斯乌克兰局势#【美国正与乌克兰军事伙伴“完全”共享情报】美国军队为乌克兰军队提供“情报、监视、侦察或任何其他方式的支持”，使得俄罗斯伤亡惨重，战局推进不力。在网络反击上，隐藏在美国驻东欧国家军事基地的美国网络司令部多个“网络任务小组”正在那里干扰俄方对乌克兰的网络攻击、干扰俄军通信。在情报支持领域，美国和德国情报官员根据监听到的俄军通信内容，在卫星图像上勾勾划划，研究俄部队在哪里集结，并在一两小时内将分析结果告知乌军。L布道宽窄的微博', '', '', '', '', '', '', '', '']\n",
      "['1000683583', '飞翔在空中的鱼儿2011', 'IMF：#乌克兰危机#或根本改变全球经济秩序国际货币基金组织（IMF）表示，长期来看，乌克兰危机或将根本改变全球经济和地缘政治秩序。乌克兰危机对全球各地区经济的影响主要通过三个渠道传导：一是食品和能源等大宗商品价格上涨进一步推高通胀，进而侵蚀收入并打击需求；二是与俄罗斯、乌克兰邻近的经济体面临贸易、供应链和汇款中断等问题；三是企业信心下降和不确定性上升对资产价格造成压力，可能导致金融环境收紧和国际资本流出新兴市', '', '', '', '', '', '', '', '', '']\n",
      "['1002224393', '老陶在路上', '乌军打俄军坦克#俄乌局势观察团##v光计划#L老陶在路上的微博视频', '', '', '', '', '', '', '', '', '']\n",
      "['1003050992', '方胜_60891', '//@王强毛巾:比乌克兰人民还悲惨//@一眸荒塘://@孤峰买醉:朗朗乾坤下，还有多少被某些人称为＂丈夫＂的＂撒旦＂呢？', '', '', '', '', '', '', '', '', '']\n",
      "['1003340321', '啵叽猫子', '绝//@一个忧伤者的大牙花子:世界上有五种头，箭头线头石头罐头还有周深:宝你个头//@暮酒余温:世界上有五种粥，米粥南瓜粥八宝粥小白粥还有一拳揍得你旋转五粥//世界上有五种居，居八戒豪居蠢居乌克兰小乳居和周深：你们给我立字居！//:世界上有五种马：大马小马黑马白马和周深：你礼貌马', '', '', '', '', '', '', '', '', '']\n",
      "['1004775915', '橘清一', '//@c丨l_konG丨://@苔藓不太绿:把各个国家，不同时间的爆炸视频这次都拿来给乌克兰凑数，结果一个个的被人给扒了出来', '', '', '', '', '', '', '', '', '']\n",
      "['1005753444', 'wensm888', '//@高程CASS:老胡这篇可以点赞（俄罗斯，乌克兰）', '', '', '', '', '', '', '', '', '']\n",
      "['1008275600', '用我户', '@评论员曹林1名美国公民提裤子逃出了乌克兰战区，成功撤回美国，然后第二天在美国本土死于美国枪击案……', '@美国驻华大使馆@评论员曹林@水墨陈丹青@鄂烈山@乌克兰信使1名美国公民提裤子逃出了乌克兰战区，成功撤回美国，然后第二天在美国本土死于美国枪击案……', '', '', '', '', '', '', '', '']\n",
      "['1008746521', '京城张宝', '【#普京发表讲话称没有占领乌克兰的计划#】据央视，当地时间16日，俄罗斯总统普京发表电视讲话。普京表示，特别军事行动进展顺利，正在按计划执行。俄军虽然接近基辅和乌克兰其他城市，但是没有占领乌克兰的计划和目的。', '#梅德韦杰夫回应法国部长经济和金融战言论#【法部长称欧盟将对俄发起“经济和金融战争”，梅德韦杰夫“强硬”回应】综合俄罗斯卫星通讯社、俄新社等媒体3月1日报道，法国经济和财政部部长勒梅尔在接受媒体采访时称，欧盟“计划对俄罗斯发起全面经济和金融战争”。对此，俄罗斯联邦安全会议副主席梅德韦杰夫回应说，请不要忘记，人类历史上经济战经常会演变为真正的战争。卫星通讯社形容梅德韦杰夫的表态“强硬”。梅德韦杰夫3月1日发推文称，“有位法国部长今天说，他们宣布向我们发起经济战。请各位注意自己的言论！也请不要忘记，人类历史上经济战经常会演变为真正的战争。”近日，针对俄罗斯对乌克兰的特别军事行动，美国、英国、加拿大、日本以及欧盟等宣布对俄罗斯实施制裁，包括将部分俄罗斯银行排除出环球银行间金融通信协会（SWIFT）支付系统，对俄罗斯关闭领空、禁止今日俄罗斯和卫星通讯社的新闻信息产品在欧盟落地和传播等。俄罗斯联邦安全会议副主席梅德韦杰夫2月26日表示，对俄制裁是（西方）中断（同俄方）战略安全对话的借口，这些制裁“什么也改变不了”。他还说，（西方）对俄公民和在海外俄企实施的资产扣押制裁，俄方将对等回应。@环', '', '', '', '', '', '', '', '']\n",
      "Number of nodes: <generator object get_node_rows at 0x7fb7e142db48>\n"
     ]
    }
   ],
   "source": [
    "nodes = coord_net_tk.graph.get_node_rows(db_name, n_messages=10)\n",
    "counter = 0\n",
    "for row in nodes:\n",
    "    counter += 1\n",
    "    if counter < 10:\n",
    "        print(row)\n",
    "print(\"Number of nodes: \" + str(nodes))"
   ]
  },
  {
   "cell_type": "code",
   "execution_count": 13,
   "metadata": {},
   "outputs": [
    {
     "name": "stdout",
     "output_type": "stream",
     "text": [
      "{'1003050992', '2315604141'}\n",
      "{'1460923302', '1921805223', '7449732583', '1751501125', '2821797691', '2719233071', '7731301110', '7410362429', '5189250470', '1685591353', '1401286675', '2202735170', '6240828519', '7577364863', '2369213632', '2245177021', '1074337642'}\n",
      "{'1946064754', '1087811515'}\n",
      "{'7498357451', '1233302995'}\n",
      "{'1369270154', '5873139785'}\n",
      "{'6969117632', '5617036708', '1499104401', '6243826146'}\n",
      "{'3132941572', '3560504673', '1712579300', '2096920270', '5089744601', '6260502509', '1645011900', '6119286204', '1621322781', '2008165825', '2746862553', '1697109141', '7395720159', '7706484560', '6207249599', '1859428424'}\n",
      "{'1646817362', '1934255493', '2258977224', '6068931227'}\n",
      "{'2414369130', '1707450894'}\n",
      "{'1921500270', '7348018856', '1967993381', '1747766363'}\n",
      "{'1782370260', '6285009867'}\n",
      "{'1903532884', '3165590770', '1821050932'}\n",
      "{'2813634904', '1886305985'}\n",
      "{'1897464600', '5514333673', '3368847174', '1958259195'}\n",
      "{'1918608731', '2881706372', '2268621352'}\n",
      "{'6008483913', '1965683690', '6989811868'}\n",
      "{'2354486417', '2037877592'}\n",
      "{'2234534807', '2179096360', '2179608200'}\n",
      "{'5165461491', '2216791820'}\n",
      "{'5092088752', '5186856444', '2275345674'}\n",
      "{'7573115352', '2282787895', '2521026624'}\n",
      "{'7508526106', '5484769330', '3458288384', '2611584093', '5212874368', '6668416166', '7734872757'}\n",
      "{'2645009584', '5973220849'}\n",
      "{'5930708041', '2797034911'}\n",
      "{'2877250764', '3322271674'}\n",
      "{'7390064707', '3146473603'}\n",
      "{'7657724434', '3170452292'}\n",
      "{'6315206710', '3919603060'}\n",
      "{'6042210548', '5064554108'}\n",
      "{'5884281567', '5236331492'}\n",
      "{'6897982164', '5308922637'}\n",
      "{'7474402206', '5675456707'}\n",
      "{'7392910023', '5913911374'}\n",
      "{'5953272782', '7548286160', '6996392843'}\n",
      "{'7549320978', '6515953883'}\n",
      "{'6838494152', '7277874827'}\n"
     ]
    }
   ],
   "source": [
    "# similarity_graph\n",
    "for g in nx.strongly_connected_components(similarity_graph):\n",
    "    print(g)"
   ]
  },
  {
   "cell_type": "code",
   "execution_count": 14,
   "metadata": {},
   "outputs": [
    {
     "name": "stdout",
     "output_type": "stream",
     "text": [
      "{'1003050992', '2315604141'}\n",
      "{'1460923302', '7449732583', '1921805223', '1751501125', '2821797691', '2719233071', '7731301110', '7410362429', '5189250470', '1685591353', '1401286675', '2202735170', '6240828519', '7577364863', '2369213632', '2245177021', '1074337642'}\n",
      "{'1946064754', '1087811515'}\n",
      "{'7498357451', '1233302995'}\n",
      "{'1369270154', '5873139785'}\n",
      "{'6969117632', '5617036708', '1499104401', '6243826146'}\n",
      "{'3132941572', '3560504673', '1712579300', '2096920270', '5089744601', '6260502509', '1645011900', '6119286204', '1621322781', '2008165825', '2746862553', '1697109141', '7395720159', '7706484560', '6207249599', '1859428424'}\n",
      "{'1646817362', '1934255493', '2258977224', '6068931227'}\n",
      "{'2414369130', '1707450894'}\n",
      "{'1921500270', '7348018856', '1967993381', '1747766363'}\n",
      "{'1782370260', '6285009867'}\n",
      "{'1903532884', '3165590770', '1821050932'}\n",
      "{'2813634904', '1886305985'}\n",
      "{'1897464600', '5514333673', '3368847174', '1958259195'}\n",
      "{'1918608731', '2881706372', '2268621352'}\n",
      "{'6008483913', '1965683690', '6989811868'}\n",
      "{'2354486417', '2037877592'}\n",
      "{'2234534807', '2179096360', '2179608200'}\n",
      "{'5165461491', '2216791820'}\n",
      "{'5092088752', '5186856444', '2275345674'}\n",
      "{'7573115352', '2282787895', '2521026624'}\n",
      "{'7508526106', '5484769330', '3458288384', '2611584093', '5212874368', '6668416166', '7734872757'}\n",
      "{'2645009584', '5973220849'}\n",
      "{'5930708041', '2797034911'}\n",
      "{'2877250764', '3322271674'}\n",
      "{'7390064707', '3146473603'}\n",
      "{'7657724434', '3170452292'}\n",
      "{'6315206710', '3919603060'}\n",
      "{'6042210548', '5064554108'}\n",
      "{'5884281567', '5236331492'}\n",
      "{'6897982164', '5308922637'}\n",
      "{'7474402206', '5675456707'}\n",
      "{'7392910023', '5913911374'}\n",
      "{'5953272782', '7548286160', '6996392843'}\n",
      "{'7549320978', '6515953883'}\n",
      "{'6838494152', '7277874827'}\n"
     ]
    }
   ],
   "source": [
    "for g in nx.weakly_connected_components(similarity_graph):\n",
    "    print(g)"
   ]
  },
  {
   "cell_type": "code",
   "execution_count": null,
   "metadata": {},
   "outputs": [],
   "source": []
  },
  {
   "cell_type": "code",
   "execution_count": null,
   "metadata": {},
   "outputs": [],
   "source": []
  },
  {
   "cell_type": "code",
   "execution_count": null,
   "metadata": {},
   "outputs": [],
   "source": []
  },
  {
   "cell_type": "code",
   "execution_count": 15,
   "metadata": {},
   "outputs": [],
   "source": []
  },
  {
   "cell_type": "code",
   "execution_count": 103,
   "metadata": {},
   "outputs": [],
   "source": []
  },
  {
   "cell_type": "code",
   "execution_count": null,
   "metadata": {},
   "outputs": [],
   "source": []
  },
  {
   "cell_type": "code",
   "execution_count": null,
   "metadata": {},
   "outputs": [],
   "source": []
  },
  {
   "cell_type": "code",
   "execution_count": 107,
   "metadata": {},
   "outputs": [],
   "source": [
    "import pandas as pd"
   ]
  },
  {
   "cell_type": "code",
   "execution_count": 112,
   "metadata": {},
   "outputs": [
    {
     "data": {
      "text/html": [
       "<div>\n",
       "<style scoped>\n",
       "    .dataframe tbody tr th:only-of-type {\n",
       "        vertical-align: middle;\n",
       "    }\n",
       "\n",
       "    .dataframe tbody tr th {\n",
       "        vertical-align: top;\n",
       "    }\n",
       "\n",
       "    .dataframe thead th {\n",
       "        text-align: right;\n",
       "    }\n",
       "</style>\n",
       "<table border=\"1\" class=\"dataframe\">\n",
       "  <thead>\n",
       "    <tr style=\"text-align: right;\">\n",
       "      <th></th>\n",
       "      <th>message_id</th>\n",
       "      <th>user_id</th>\n",
       "      <th>username</th>\n",
       "      <th>repost_id</th>\n",
       "      <th>reply_id</th>\n",
       "      <th>message</th>\n",
       "      <th>timestamp</th>\n",
       "      <th>urls</th>\n",
       "    </tr>\n",
       "  </thead>\n",
       "  <tbody>\n",
       "    <tr>\n",
       "      <th>0</th>\n",
       "      <td>4753594844449805</td>\n",
       "      <td>1044050113</td>\n",
       "      <td>康灵毅</td>\n",
       "      <td>NaN</td>\n",
       "      <td>0</td>\n",
       "      <td>俄罗斯总统普京3月31日签署总统令，对俄“非友好国家和地区”以卢布支付俄罗斯天然气的新规于4...</td>\n",
       "      <td>1648857540000</td>\n",
       "      <td>'https://wx1.sinaimg.cn/large/3e3af0c1ly1h0unx...</td>\n",
       "    </tr>\n",
       "    <tr>\n",
       "      <th>1</th>\n",
       "      <td>4753594513360542</td>\n",
       "      <td>6004371911</td>\n",
       "      <td>军机白虎堂</td>\n",
       "      <td>NaN</td>\n",
       "      <td>7</td>\n",
       "      <td>“亚速营”的末日到了，他们已经被挤在马里乌波尔最后的“钢铁营地”里面，空间所剩无几。据说经过...</td>\n",
       "      <td>1648857480000</td>\n",
       "      <td>'https://wx1.sinaimg.cn/large/006ylJqfgy1h0unw...</td>\n",
       "    </tr>\n",
       "    <tr>\n",
       "      <th>2</th>\n",
       "      <td>4753594820070805</td>\n",
       "      <td>1407286161</td>\n",
       "      <td>暗能量泡泡</td>\n",
       "      <td>4.753595e+15</td>\n",
       "      <td>0</td>\n",
       "      <td>乌克兰军阀化了</td>\n",
       "      <td>1648857480000</td>\n",
       "      <td>NaN</td>\n",
       "    </tr>\n",
       "  </tbody>\n",
       "</table>\n",
       "</div>"
      ],
      "text/plain": [
       "         message_id     user_id username     repost_id  reply_id  \\\n",
       "0  4753594844449805  1044050113      康灵毅           NaN         0   \n",
       "1  4753594513360542  6004371911    军机白虎堂           NaN         7   \n",
       "2  4753594820070805  1407286161    暗能量泡泡  4.753595e+15         0   \n",
       "\n",
       "                                             message      timestamp  \\\n",
       "0  俄罗斯总统普京3月31日签署总统令，对俄“非友好国家和地区”以卢布支付俄罗斯天然气的新规于4...  1648857540000   \n",
       "1  “亚速营”的末日到了，他们已经被挤在马里乌波尔最后的“钢铁营地”里面，空间所剩无几。据说经过...  1648857480000   \n",
       "2                                            乌克兰军阀化了  1648857480000   \n",
       "\n",
       "                                                urls  \n",
       "0  'https://wx1.sinaimg.cn/large/3e3af0c1ly1h0unx...  \n",
       "1  'https://wx1.sinaimg.cn/large/006ylJqfgy1h0unw...  \n",
       "2                                                NaN  "
      ]
     },
     "execution_count": 112,
     "metadata": {},
     "output_type": "execute_result"
    }
   ],
   "source": [
    "# csv_filename = \"/Users/guangnanzhu/Desktop/Projects/CN Toolkit/rio-conet/coordination-network-toolkit/dataset_test/PeopleDaily-toy-dataset/ukraine_weibo_node.csv\"\n",
    "df = pd.read_csv(csv_filename)\n",
    "df.head(3)"
   ]
  },
  {
   "cell_type": "code",
   "execution_count": 124,
   "metadata": {},
   "outputs": [
    {
     "data": {
      "text/html": [
       "<div>\n",
       "<style scoped>\n",
       "    .dataframe tbody tr th:only-of-type {\n",
       "        vertical-align: middle;\n",
       "    }\n",
       "\n",
       "    .dataframe tbody tr th {\n",
       "        vertical-align: top;\n",
       "    }\n",
       "\n",
       "    .dataframe thead th {\n",
       "        text-align: right;\n",
       "    }\n",
       "</style>\n",
       "<table border=\"1\" class=\"dataframe\">\n",
       "  <thead>\n",
       "    <tr style=\"text-align: right;\">\n",
       "      <th></th>\n",
       "      <th>message_id</th>\n",
       "      <th>user_id</th>\n",
       "      <th>username</th>\n",
       "      <th>repost_id</th>\n",
       "      <th>reply_id</th>\n",
       "      <th>message</th>\n",
       "      <th>timestamp</th>\n",
       "      <th>urls</th>\n",
       "    </tr>\n",
       "  </thead>\n",
       "  <tbody>\n",
       "    <tr>\n",
       "      <th>5609</th>\n",
       "      <td>4747792591099976</td>\n",
       "      <td>1074337642</td>\n",
       "      <td>非飞回来了</td>\n",
       "      <td>NaN</td>\n",
       "      <td>0</td>\n",
       "      <td>//@王峻涛6688:公子所言极是。//@知行不合一的沈公子:他的厉害之处，是能够以乌克兰的...</td>\n",
       "      <td>1647467580000</td>\n",
       "      <td>NaN</td>\n",
       "    </tr>\n",
       "    <tr>\n",
       "      <th>5698</th>\n",
       "      <td>4747791928134294</td>\n",
       "      <td>1401286675</td>\n",
       "      <td>红雨伞V</td>\n",
       "      <td>NaN</td>\n",
       "      <td>0</td>\n",
       "      <td>//@王峻涛6688:公子所言极是。//@知行不合一的沈公子:他的厉害之处，是能够以乌克兰的...</td>\n",
       "      <td>1647467580000</td>\n",
       "      <td>NaN</td>\n",
       "    </tr>\n",
       "    <tr>\n",
       "      <th>13141</th>\n",
       "      <td>4747746327924878</td>\n",
       "      <td>1401286675</td>\n",
       "      <td>红雨伞V</td>\n",
       "      <td>4.747709e+15</td>\n",
       "      <td>0</td>\n",
       "      <td>//@深夜一只猫:这就是最直接的官方立场了！尊重乌克兰的主权和领土完整，呼吁立即停止战争！！...</td>\n",
       "      <td>1647454320000</td>\n",
       "      <td>NaN</td>\n",
       "    </tr>\n",
       "  </tbody>\n",
       "</table>\n",
       "</div>"
      ],
      "text/plain": [
       "             message_id     user_id username     repost_id  reply_id  \\\n",
       "5609   4747792591099976  1074337642    非飞回来了           NaN         0   \n",
       "5698   4747791928134294  1401286675     红雨伞V           NaN         0   \n",
       "13141  4747746327924878  1401286675     红雨伞V  4.747709e+15         0   \n",
       "\n",
       "                                                 message      timestamp urls  \n",
       "5609   //@王峻涛6688:公子所言极是。//@知行不合一的沈公子:他的厉害之处，是能够以乌克兰的...  1647467580000  NaN  \n",
       "5698   //@王峻涛6688:公子所言极是。//@知行不合一的沈公子:他的厉害之处，是能够以乌克兰的...  1647467580000  NaN  \n",
       "13141  //@深夜一只猫:这就是最直接的官方立场了！尊重乌克兰的主权和领土完整，呼吁立即停止战争！！...  1647454320000  NaN  "
      ]
     },
     "execution_count": 124,
     "metadata": {},
     "output_type": "execute_result"
    }
   ],
   "source": [
    "df[(df['user_id'] == 1074337642) | (df['user_id'] == 1401286675) ]"
   ]
  },
  {
   "cell_type": "code",
   "execution_count": 18,
   "metadata": {},
   "outputs": [],
   "source": [
    "def dataclean(context):\n",
    "    # ref: https://chenyuzuoo.github.io/posts/28001/\n",
    "    \n",
    "    # remove links\n",
    "    context = re.sub(\"http://[a-zA-z./\\d]*\",\"\",context)\n",
    "    \n",
    "    # remove emoji\n",
    "    # ref: https://stackoverflow.com/a/58356570\n",
    "    emoj = re.compile(\"[\"\n",
    "        u\"\\U0001F600-\\U0001F64F\"  # emoticons\n",
    "        u\"\\U0001F300-\\U0001F5FF\"  # symbols & pictographs\n",
    "        u\"\\U0001F680-\\U0001F6FF\"  # transport & map symbols\n",
    "        u\"\\U0001F1E0-\\U0001F1FF\"  # flags (iOS)\n",
    "#         u\"\\U00002500-\\U00002BEF\"  # chinese char\n",
    "#         u\"\\U00002702-\\U000027B0\"\n",
    "#         u\"\\U00002702-\\U000027B0\"\n",
    "#         u\"\\U000024C2-\\U0001F251\"\n",
    "#         u\"\\U0001f926-\\U0001f937\"\n",
    "#         u\"\\U00010000-\\U0010ffff\"\n",
    "        u\"\\u2640-\\u2642\" \n",
    "        u\"\\u2600-\\u2B55\"\n",
    "        u\"\\u200d\"\n",
    "        u\"\\u23cf\"\n",
    "        u\"\\u23e9\"\n",
    "        u\"\\u231a\"\n",
    "        u\"\\ufe0f\"  # dingbats\n",
    "        u\"\\u3030\"\n",
    "                      \"]+\", re.UNICODE)\n",
    "    context = re.sub(emoj,\"\",context)\n",
    "    \n",
    "    # remove hashtags\n",
    "    tags = re.findall(\"#(.{0,30})#\",context)\n",
    "    context = re.sub(\"#.{0,30}#\",\" \",context)\n",
    "    \n",
    "    # extract and remove @someone (need to be fixed)\n",
    "    # e.g., 1) @XX it is a good day @xx\n",
    "    # e.g., 2) @XX @XXX it is a good day\n",
    "    at = re.findall(r\"(回复)?(//)?\\s*@\\S*?\\s*(:| |$|：)\", context)\n",
    "    context = re.sub(r\"(回复)?(//)?\\s*@\\S*?\\s*(:| |$|：)\",\" \", context)\n",
    "    at += re.findall('@[^\\s]+', context)\n",
    "    context = re.sub('@[^\\s]+',\"\", context)\n",
    "    \n",
    "    \n",
    "#     at = re.findall(\"@([^@]{0,30})\\s\",context)\n",
    "#     context = re.sub(\"@([^@]{0,30})\\s\",\"\",context)\n",
    "#     at+= re.findall(\"@([^@]{0,30})）\",context)\n",
    "#     context = re.sub(\"@([^@]{0,30})）\",\"\",context)\n",
    "    \n",
    "    # remove English characters (commented )\n",
    "#     english = re.findall(\"[a-z]+\",context)\n",
    "#     context = re.sub(\"[a-z]+\",\"\",context)\n",
    "    \n",
    "    # remove puntuation\n",
    "    context = re.sub(\"[\\s+\\.\\!\\/_,$%^*(+\\\"\\']+|[+——！，。？、~@#￥%……&*（）]+\", \" \",context)\n",
    "    context = re.sub(\"[【】╮╯▽╰╭★→「」]+\",\" \",context)\n",
    "    context = re.sub(\"[！，❤。～《》：（）【】「」？”“；：、·]+\",\" \",context)\n",
    "    \n",
    "    \n",
    "#     # remove space\n",
    "#     context = re.sub(\"\\s\",\"\",context)\n",
    "    \n",
    "    # remove digits\n",
    "    context = re.sub(\"\\d\",\"\",context)\n",
    "    \n",
    "    # remove ...\n",
    "    context = re.sub(\"\\.*\",\"\",context)\n",
    "    \n",
    "    return context"
   ]
  },
  {
   "cell_type": "code",
   "execution_count": 19,
   "metadata": {},
   "outputs": [],
   "source": [
    "from coordination_network_toolkit.similarity import chinese_preprocessor"
   ]
  },
  {
   "cell_type": "code",
   "execution_count": 20,
   "metadata": {},
   "outputs": [],
   "source": [
    "df['cleaned_text'] = df['text'].apply(dataclean)"
   ]
  },
  {
   "cell_type": "code",
   "execution_count": 21,
   "metadata": {},
   "outputs": [
    {
     "data": {
      "text/plain": [
       "0     陜西首趟中老鐵路國際貨運列車開行 月日 一列滿載個集裝箱的中老鐵路 寶雞 萬象 國際貨運列...\n",
       "1     西藏林芝 雪山下桃花開 月日 西藏林芝市嘎拉村 雪山映襯下的桃花盛開 嘎拉村被譽為 林芝桃...\n",
       "2    民航局航空安全監察專員 航空安全辦公室主任朱濤日表示    東航MU航空器飛行事故調查工作目...\n",
       "3    日上午    東航MU航空器飛行事故國家應急處置指揮部舉行新聞發布會介紹 目前主要搜尋任務基...\n",
       "4     香港月日起派發 防疫服務包  香港特區政府將於月日起在全港區派發 防疫服務包  預計在天內...\n",
       "5    月日 國家主席習近平向第三次阿富汗鄰國外長會發表書面致辭 資料圖 https: t co e...\n",
       "6     第三次阿富汗鄰國外長會在安徽屯溪舉行 第三次阿富汗鄰國外長會月日至日在安徽屯溪舉行 國務委...\n",
       "7    據 朝日新聞 電子版等日報導 日本福島縣和宮城縣的個民間團體當日向日本經濟產業省和東京電力公...\n",
       "8     中央援港抗疫中醫專家組在港交流及考察社區隔離設施 中央援港抗疫中醫專家組日在港交流 並考察...\n",
       "9    銀保監會日發布消息 當前保險業正積極開展   東航MU航空器飛行事故保險理賠工作 截至月日 ...\n",
       "Name: cleaned_text, dtype: object"
      ]
     },
     "execution_count": 21,
     "metadata": {},
     "output_type": "execute_result"
    }
   ],
   "source": [
    "df['cleaned_text'].head(10)"
   ]
  },
  {
   "cell_type": "code",
   "execution_count": 22,
   "metadata": {},
   "outputs": [],
   "source": [
    "df['tokened_text'] = df['text'].apply(chinese_preprocessor)"
   ]
  },
  {
   "cell_type": "code",
   "execution_count": 30,
   "metadata": {},
   "outputs": [
    {
     "data": {
      "text/plain": [
       "0        陜 西首 首趟 中 老 鐵 路 國 際 貨 運 列 車 開 行     3 月 30...\n",
       "1        西藏 林芝     雪山 山下 桃花 開     3 月 30 日     西藏 林...\n",
       "2    民航 民航局 航空 航空安全 安全 監 察 專 員     航空 航空安全 安全 辦 公室 ...\n",
       "3    31 日 上午        3     21     東 航 MU5735 航空 航空器 ...\n",
       "4        香港 4 月 2 日 起 派 發     防疫 服 務 包        香港 特 ...\n",
       "5    3 月 31 日     國 家主 主席 習 近 平 向 第三 第三次 三次 阿富汗 鄰 國...\n",
       "6        第三 第三次 三次 阿富汗 鄰 國 外 長 會 在 安徽 屯溪 舉 行     第三...\n",
       "7    據     朝日 新 聞     電 子 版 等 30 日 報 導     日本 福 島 縣...\n",
       "8        中央 援 港 抗 疫 中 醫 專 家 組 在 港 交流 及 考察 社 區 隔 離 設...\n",
       "9    銀 保 監 會 30 日 發 布 消息     當 前 保 險 業 正 積 極 開 展   ...\n",
       "Name: tokened_text, dtype: object"
      ]
     },
     "execution_count": 30,
     "metadata": {},
     "output_type": "execute_result"
    }
   ],
   "source": [
    "df['tokened_text'].head(10)"
   ]
  },
  {
   "cell_type": "code",
   "execution_count": 31,
   "metadata": {},
   "outputs": [],
   "source": [
    "def similarity(tokens_1, tokens_2):\n",
    "    set_1 = set(tokens_1.split())\n",
    "    set_2 = set(tokens_2.split())\n",
    "    return len(set_1 & set_2) / len(set_1 | set_2)"
   ]
  },
  {
   "cell_type": "code",
   "execution_count": 32,
   "metadata": {},
   "outputs": [],
   "source": [
    "similarity_pair_dict = dict()\n",
    "\n",
    "for i in range(df.shape[0]-1):\n",
    "    r1_text = df['tokened_text'].iloc[i]\n",
    "    r2_text = df['tokened_text'].iloc[i+1]\n",
    "    \n",
    "    keyname = str(df['id'].iloc[i]) + \"-\" + str(df['id'].iloc[i+1])\n",
    "    \n",
    "    similarity_pair_dict[keyname] = similarity(r1_text, r2_text)\n",
    "    \n",
    "    "
   ]
  },
  {
   "cell_type": "code",
   "execution_count": 33,
   "metadata": {},
   "outputs": [],
   "source": [
    "# similarity_pair_dict"
   ]
  },
  {
   "cell_type": "code",
   "execution_count": 36,
   "metadata": {},
   "outputs": [
    {
     "data": {
      "text/plain": [
       "'1473653211957379072-1473653097952120832'"
      ]
     },
     "execution_count": 36,
     "metadata": {},
     "output_type": "execute_result"
    }
   ],
   "source": [
    "max(similarity_pair_dict, key=similarity_pair_dict.get)"
   ]
  },
  {
   "cell_type": "code",
   "execution_count": 47,
   "metadata": {},
   "outputs": [
    {
     "data": {
      "text/plain": [
       "3020    【習近平會見來京述職的林鄭月娥】國家主席習近平22日下午在中南海瀛台會見來京述職的香港特別行...\n",
       "Name: text, dtype: object"
      ]
     },
     "execution_count": 47,
     "metadata": {},
     "output_type": "execute_result"
    }
   ],
   "source": [
    "df[df.id == 1473653097952120832].text"
   ]
  },
  {
   "cell_type": "code",
   "execution_count": 48,
   "metadata": {},
   "outputs": [
    {
     "data": {
      "text/plain": [
       "3019    【習近平會見來京述職的賀一誠】國家主席習近平22日下午在中南海瀛台會見來京述職的澳門特別行政...\n",
       "Name: text, dtype: object"
      ]
     },
     "execution_count": 48,
     "metadata": {},
     "output_type": "execute_result"
    }
   ],
   "source": [
    "df[df.id == 1473653211957379072].text"
   ]
  },
  {
   "cell_type": "code",
   "execution_count": null,
   "metadata": {},
   "outputs": [],
   "source": []
  }
 ],
 "metadata": {
  "kernelspec": {
   "display_name": "Python 3",
   "language": "python",
   "name": "python3"
  },
  "language_info": {
   "codemirror_mode": {
    "name": "ipython",
    "version": 3
   },
   "file_extension": ".py",
   "mimetype": "text/x-python",
   "name": "python",
   "nbconvert_exporter": "python",
   "pygments_lexer": "ipython3",
   "version": "3.6.4"
  }
 },
 "nbformat": 4,
 "nbformat_minor": 2
}
