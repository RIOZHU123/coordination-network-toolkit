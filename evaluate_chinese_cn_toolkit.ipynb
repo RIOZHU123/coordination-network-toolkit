{
 "cells": [
  {
   "cell_type": "code",
   "execution_count": 26,
   "metadata": {},
   "outputs": [],
   "source": [
    "import coordination_network_toolkit as coord_net_tk\n",
    "import networkx as nx\n",
    "from coordination_network_toolkit.database import COMMAND_TABLE_MAPPING\n",
    "import sqlite3 as lite\n",
    "import re\n",
    "import regex"
   ]
  },
  {
   "cell_type": "code",
   "execution_count": 27,
   "metadata": {},
   "outputs": [
    {
     "name": "stdout",
     "output_type": "stream",
     "text": [
      "Begin preprocessing /Users/guangnanzhu/Desktop/Projects/CN Toolkit/rio-conet/coordination-network-toolkit/dataset_test/preprocess_ukr_weibo.csv into /Users/guangnanzhu/Desktop/Projects/CN Toolkit/rio-conet/coordination-network-toolkit/dataset_test/ukraine_weibo.db\n",
      "Done preprocessing /Users/guangnanzhu/Desktop/Projects/CN Toolkit/rio-conet/coordination-network-toolkit/dataset_test/preprocess_ukr_weibo.csv into /Users/guangnanzhu/Desktop/Projects/CN Toolkit/rio-conet/coordination-network-toolkit/dataset_test/ukraine_weibo.db\n"
     ]
    }
   ],
   "source": [
    "json_filename = \"/Users/guangnanzhu/Desktop/Projects/CN Toolkit/rio-conet/coordination-network-toolkit/dataset_test/PeopleDaily-toy-dataset/shanghai_covid.json\"\n",
    "\n",
    "csv_filename = \"/Users/guangnanzhu/Desktop/Projects/CN Toolkit/rio-conet/coordination-network-toolkit/dataset_test/preprocess_ukr_weibo.csv\"\n",
    "\n",
    "ori_csv_filename = \"/Users/guangnanzhu/Desktop/Projects/DECRA-coordnet-nectar/Dataset/Weibo/ukr-rus/result/乌克兰/乌克兰.csv\"\n",
    "\n",
    "save_directory = '/Users/guangnanzhu/Desktop/Projects/CN Toolkit/rio-conet/coordination-network-toolkit/dataset_test/'\n",
    "\n",
    "db_name = save_directory + \"ukraine_weibo.db\"\n",
    "\n",
    "coord_net_tk.preprocess.preprocess_weibo_data(ori_csv_filename, csv_filename)\n",
    "\n",
    "coord_net_tk.preprocess.preprocess_csv_files(db_name, [csv_filename])"
   ]
  },
  {
   "cell_type": "code",
   "execution_count": 28,
   "metadata": {},
   "outputs": [
    {
     "name": "stdout",
     "output_type": "stream",
     "text": [
      "Applying text normalisation for cotweet\n",
      "Ensuring the necessary indexes exists\n",
      "computing co_tweet network\n",
      "Completed 5 / 41\n",
      "Completed 10 / 41\n",
      "Completed 15 / 41\n",
      "Completed 20 / 41\n",
      "Completed 25 / 41\n",
      "Completed 30 / 41\n",
      "Completed 35 / 41\n",
      "Completed 40 / 41\n",
      "Completed 41 / 41\n"
     ]
    },
    {
     "data": {
      "text/plain": [
       "41"
      ]
     },
     "execution_count": 28,
     "metadata": {},
     "output_type": "execute_result"
    }
   ],
   "source": [
    "coord_net_tk.compute_networks.compute_co_tweet_network(db_name, 60)"
   ]
  },
  {
   "cell_type": "code",
   "execution_count": 29,
   "metadata": {},
   "outputs": [],
   "source": [
    "command = \"co_tweet\""
   ]
  },
  {
   "cell_type": "code",
   "execution_count": 30,
   "metadata": {},
   "outputs": [],
   "source": [
    "similarity_graph = coord_net_tk.graph.load_networkx_graph(db_name, command)"
   ]
  },
  {
   "cell_type": "code",
   "execution_count": 31,
   "metadata": {},
   "outputs": [],
   "source": [
    "coord_net_tk.output.output_gephi_csv(db_name, command, str(save_directory + 'ukraine_weibo_network.csv'))"
   ]
  },
  {
   "cell_type": "code",
   "execution_count": 38,
   "metadata": {},
   "outputs": [],
   "source": [
    "coord_net_tk.output.output_node_csv(db_name, str(save_directory + 'ukraine_weibo_network_node.csv'))"
   ]
  },
  {
   "cell_type": "code",
   "execution_count": 33,
   "metadata": {},
   "outputs": [],
   "source": [
    "coord_net_tk.output.output_graphml(db_name, command, str(save_directory + 'ukraine_weibo.graphml'))"
   ]
  },
  {
   "cell_type": "code",
   "execution_count": null,
   "metadata": {},
   "outputs": [],
   "source": []
  },
  {
   "cell_type": "code",
   "execution_count": null,
   "metadata": {},
   "outputs": [],
   "source": []
  },
  {
   "cell_type": "code",
   "execution_count": 34,
   "metadata": {},
   "outputs": [
    {
     "name": "stdout",
     "output_type": "stream",
     "text": [
      "('1003050992', '2315604141', 1, 'co_tweet')\n",
      "('1074337642', '1401286675', 1, 'co_tweet')\n",
      "('1074337642', '1460923302', 1, 'co_tweet')\n",
      "('1074337642', '1685591353', 1, 'co_tweet')\n",
      "('1074337642', '1751501125', 1, 'co_tweet')\n",
      "('1074337642', '1921805223', 1, 'co_tweet')\n",
      "('1074337642', '2202735170', 1, 'co_tweet')\n",
      "('1074337642', '2245177021', 1, 'co_tweet')\n",
      "('1074337642', '2369213632', 1, 'co_tweet')\n",
      "('1074337642', '2719233071', 1, 'co_tweet')\n",
      "Number of Edges: 608\n"
     ]
    }
   ],
   "source": [
    "edges = coord_net_tk.graph.get_edge_rows(db_name, command)\n",
    "counter = 0\n",
    "for e in edges:\n",
    "    if counter < 10:\n",
    "        print(e)  \n",
    "    counter += 1\n",
    "print(\"Number of Edges: \" + str(counter))"
   ]
  },
  {
   "cell_type": "code",
   "execution_count": 35,
   "metadata": {},
   "outputs": [
    {
     "name": "stdout",
     "output_type": "stream",
     "text": [
      "['1000124571', '布道宽窄', '宽窄观察#俄罗斯乌克兰局势#【马斯克放言让俄核武哑火】', '宽窄观察#俄罗斯乌克兰局势#【美国正与乌克兰军事伙伴“完全”共享情报】美国军队为乌克兰军队提供“情报、监视、侦察或任何其他方式的支持”，使得俄罗斯伤亡惨重，战局推进不力。在网络反击上，隐藏在美国驻东欧国家军事基地的美国网络司令部多个“网络任务小组”正在那里干扰俄方对乌克兰的网络攻击、干扰俄军通信。在情报支持领域，美国和德国情报官员根据监听到的俄军通信内容，在卫星图像上勾勾划划，研究俄部队在哪里集结，并在一两小时内将分析结果告知乌军。L布道宽窄的微博', '', '', '', '', '', '', '', '']\n",
      "['1000683583', '飞翔在空中的鱼儿2011', 'IMF：#乌克兰危机#或根本改变全球经济秩序国际货币基金组织（IMF）表示，长期来看，乌克兰危机或将根本改变全球经济和地缘政治秩序。乌克兰危机对全球各地区经济的影响主要通过三个渠道传导：一是食品和能源等大宗商品价格上涨进一步推高通胀，进而侵蚀收入并打击需求；二是与俄罗斯、乌克兰邻近的经济体面临贸易、供应链和汇款中断等问题；三是企业信心下降和不确定性上升对资产价格造成压力，可能导致金融环境收紧和国际资本流出新兴市', '', '', '', '', '', '', '', '', '']\n",
      "['1002224393', '老陶在路上', '乌军打俄军坦克#俄乌局势观察团##v光计划#L老陶在路上的微博视频', '', '', '', '', '', '', '', '', '']\n",
      "['1003050992', '方胜_60891', '//@王强毛巾:比乌克兰人民还悲惨//@一眸荒塘://@孤峰买醉:朗朗乾坤下，还有多少被某些人称为＂丈夫＂的＂撒旦＂呢？', '', '', '', '', '', '', '', '', '']\n",
      "['1003340321', '啵叽猫子', '绝//@一个忧伤者的大牙花子:世界上有五种头，箭头线头石头罐头还有周深:宝你个头//@暮酒余温:世界上有五种粥，米粥南瓜粥八宝粥小白粥还有一拳揍得你旋转五粥//世界上有五种居，居八戒豪居蠢居乌克兰小乳居和周深：你们给我立字居！//:世界上有五种马：大马小马黑马白马和周深：你礼貌马', '', '', '', '', '', '', '', '', '']\n",
      "['1004775915', '橘清一', '//@c丨l_konG丨://@苔藓不太绿:把各个国家，不同时间的爆炸视频这次都拿来给乌克兰凑数，结果一个个的被人给扒了出来', '', '', '', '', '', '', '', '', '']\n",
      "['1005753444', 'wensm888', '//@高程CASS:老胡这篇可以点赞（俄罗斯，乌克兰）', '', '', '', '', '', '', '', '', '']\n",
      "['1008275600', '用我户', '@评论员曹林1名美国公民提裤子逃出了乌克兰战区，成功撤回美国，然后第二天在美国本土死于美国枪击案……', '@美国驻华大使馆@评论员曹林@水墨陈丹青@鄂烈山@乌克兰信使1名美国公民提裤子逃出了乌克兰战区，成功撤回美国，然后第二天在美国本土死于美国枪击案……', '', '', '', '', '', '', '', '']\n",
      "['1008746521', '京城张宝', '【#普京发表讲话称没有占领乌克兰的计划#】据央视，当地时间16日，俄罗斯总统普京发表电视讲话。普京表示，特别军事行动进展顺利，正在按计划执行。俄军虽然接近基辅和乌克兰其他城市，但是没有占领乌克兰的计划和目的。', '#梅德韦杰夫回应法国部长经济和金融战言论#【法部长称欧盟将对俄发起“经济和金融战争”，梅德韦杰夫“强硬”回应】综合俄罗斯卫星通讯社、俄新社等媒体3月1日报道，法国经济和财政部部长勒梅尔在接受媒体采访时称，欧盟“计划对俄罗斯发起全面经济和金融战争”。对此，俄罗斯联邦安全会议副主席梅德韦杰夫回应说，请不要忘记，人类历史上经济战经常会演变为真正的战争。卫星通讯社形容梅德韦杰夫的表态“强硬”。梅德韦杰夫3月1日发推文称，“有位法国部长今天说，他们宣布向我们发起经济战。请各位注意自己的言论！也请不要忘记，人类历史上经济战经常会演变为真正的战争。”近日，针对俄罗斯对乌克兰的特别军事行动，美国、英国、加拿大、日本以及欧盟等宣布对俄罗斯实施制裁，包括将部分俄罗斯银行排除出环球银行间金融通信协会（SWIFT）支付系统，对俄罗斯关闭领空、禁止今日俄罗斯和卫星通讯社的新闻信息产品在欧盟落地和传播等。俄罗斯联邦安全会议副主席梅德韦杰夫2月26日表示，对俄制裁是（西方）中断（同俄方）战略安全对话的借口，这些制裁“什么也改变不了”。他还说，（西方）对俄公民和在海外俄企实施的资产扣押制裁，俄方将对等回应。@环', '', '', '', '', '', '', '', '']\n",
      "Number of nodes: <generator object get_node_rows at 0x7fb7e2d87fc0>\n"
     ]
    }
   ],
   "source": [
    "nodes = coord_net_tk.graph.get_node_rows(db_name, n_messages=10)\n",
    "counter = 0\n",
    "for row in nodes:\n",
    "    counter += 1\n",
    "    if counter < 10:\n",
    "        print(row)\n",
    "print(\"Number of nodes: \" + str(nodes))"
   ]
  },
  {
   "cell_type": "code",
   "execution_count": 13,
   "metadata": {},
   "outputs": [
    {
     "name": "stdout",
     "output_type": "stream",
     "text": [
      "{'1003050992', '2315604141'}\n",
      "{'1460923302', '1921805223', '7449732583', '1751501125', '2821797691', '2719233071', '7731301110', '7410362429', '5189250470', '1685591353', '1401286675', '2202735170', '6240828519', '7577364863', '2369213632', '2245177021', '1074337642'}\n",
      "{'1946064754', '1087811515'}\n",
      "{'7498357451', '1233302995'}\n",
      "{'1369270154', '5873139785'}\n",
      "{'6969117632', '5617036708', '1499104401', '6243826146'}\n",
      "{'3132941572', '3560504673', '1712579300', '2096920270', '5089744601', '6260502509', '1645011900', '6119286204', '1621322781', '2008165825', '2746862553', '1697109141', '7395720159', '7706484560', '6207249599', '1859428424'}\n",
      "{'1646817362', '1934255493', '2258977224', '6068931227'}\n",
      "{'2414369130', '1707450894'}\n",
      "{'1921500270', '7348018856', '1967993381', '1747766363'}\n",
      "{'1782370260', '6285009867'}\n",
      "{'1903532884', '3165590770', '1821050932'}\n",
      "{'2813634904', '1886305985'}\n",
      "{'1897464600', '5514333673', '3368847174', '1958259195'}\n",
      "{'1918608731', '2881706372', '2268621352'}\n",
      "{'6008483913', '1965683690', '6989811868'}\n",
      "{'2354486417', '2037877592'}\n",
      "{'2234534807', '2179096360', '2179608200'}\n",
      "{'5165461491', '2216791820'}\n",
      "{'5092088752', '5186856444', '2275345674'}\n",
      "{'7573115352', '2282787895', '2521026624'}\n",
      "{'7508526106', '5484769330', '3458288384', '2611584093', '5212874368', '6668416166', '7734872757'}\n",
      "{'2645009584', '5973220849'}\n",
      "{'5930708041', '2797034911'}\n",
      "{'2877250764', '3322271674'}\n",
      "{'7390064707', '3146473603'}\n",
      "{'7657724434', '3170452292'}\n",
      "{'6315206710', '3919603060'}\n",
      "{'6042210548', '5064554108'}\n",
      "{'5884281567', '5236331492'}\n",
      "{'6897982164', '5308922637'}\n",
      "{'7474402206', '5675456707'}\n",
      "{'7392910023', '5913911374'}\n",
      "{'5953272782', '7548286160', '6996392843'}\n",
      "{'7549320978', '6515953883'}\n",
      "{'6838494152', '7277874827'}\n"
     ]
    }
   ],
   "source": [
    "# similarity_graph\n",
    "for g in nx.strongly_connected_components(similarity_graph):\n",
    "    print(g)"
   ]
  },
  {
   "cell_type": "code",
   "execution_count": 14,
   "metadata": {},
   "outputs": [
    {
     "name": "stdout",
     "output_type": "stream",
     "text": [
      "{'1003050992', '2315604141'}\n",
      "{'1460923302', '7449732583', '1921805223', '1751501125', '2821797691', '2719233071', '7731301110', '7410362429', '5189250470', '1685591353', '1401286675', '2202735170', '6240828519', '7577364863', '2369213632', '2245177021', '1074337642'}\n",
      "{'1946064754', '1087811515'}\n",
      "{'7498357451', '1233302995'}\n",
      "{'1369270154', '5873139785'}\n",
      "{'6969117632', '5617036708', '1499104401', '6243826146'}\n",
      "{'3132941572', '3560504673', '1712579300', '2096920270', '5089744601', '6260502509', '1645011900', '6119286204', '1621322781', '2008165825', '2746862553', '1697109141', '7395720159', '7706484560', '6207249599', '1859428424'}\n",
      "{'1646817362', '1934255493', '2258977224', '6068931227'}\n",
      "{'2414369130', '1707450894'}\n",
      "{'1921500270', '7348018856', '1967993381', '1747766363'}\n",
      "{'1782370260', '6285009867'}\n",
      "{'1903532884', '3165590770', '1821050932'}\n",
      "{'2813634904', '1886305985'}\n",
      "{'1897464600', '5514333673', '3368847174', '1958259195'}\n",
      "{'1918608731', '2881706372', '2268621352'}\n",
      "{'6008483913', '1965683690', '6989811868'}\n",
      "{'2354486417', '2037877592'}\n",
      "{'2234534807', '2179096360', '2179608200'}\n",
      "{'5165461491', '2216791820'}\n",
      "{'5092088752', '5186856444', '2275345674'}\n",
      "{'7573115352', '2282787895', '2521026624'}\n",
      "{'7508526106', '5484769330', '3458288384', '2611584093', '5212874368', '6668416166', '7734872757'}\n",
      "{'2645009584', '5973220849'}\n",
      "{'5930708041', '2797034911'}\n",
      "{'2877250764', '3322271674'}\n",
      "{'7390064707', '3146473603'}\n",
      "{'7657724434', '3170452292'}\n",
      "{'6315206710', '3919603060'}\n",
      "{'6042210548', '5064554108'}\n",
      "{'5884281567', '5236331492'}\n",
      "{'6897982164', '5308922637'}\n",
      "{'7474402206', '5675456707'}\n",
      "{'7392910023', '5913911374'}\n",
      "{'5953272782', '7548286160', '6996392843'}\n",
      "{'7549320978', '6515953883'}\n",
      "{'6838494152', '7277874827'}\n"
     ]
    }
   ],
   "source": [
    "for g in nx.weakly_connected_components(similarity_graph):\n",
    "    print(g)"
   ]
  },
  {
   "cell_type": "code",
   "execution_count": null,
   "metadata": {},
   "outputs": [],
   "source": []
  },
  {
   "cell_type": "code",
   "execution_count": null,
   "metadata": {},
   "outputs": [],
   "source": []
  },
  {
   "cell_type": "code",
   "execution_count": null,
   "metadata": {},
   "outputs": [],
   "source": []
  },
  {
   "cell_type": "code",
   "execution_count": 15,
   "metadata": {},
   "outputs": [],
   "source": []
  },
  {
   "cell_type": "code",
   "execution_count": 103,
   "metadata": {},
   "outputs": [],
   "source": []
  },
  {
   "cell_type": "code",
   "execution_count": null,
   "metadata": {},
   "outputs": [],
   "source": []
  },
  {
   "cell_type": "code",
   "execution_count": null,
   "metadata": {},
   "outputs": [],
   "source": []
  },
  {
   "cell_type": "code",
   "execution_count": 36,
   "metadata": {},
   "outputs": [],
   "source": [
    "import pandas as pd"
   ]
  },
  {
   "cell_type": "code",
   "execution_count": 37,
   "metadata": {},
   "outputs": [
    {
     "data": {
      "text/html": [
       "<div>\n",
       "<style scoped>\n",
       "    .dataframe tbody tr th:only-of-type {\n",
       "        vertical-align: middle;\n",
       "    }\n",
       "\n",
       "    .dataframe tbody tr th {\n",
       "        vertical-align: top;\n",
       "    }\n",
       "\n",
       "    .dataframe thead th {\n",
       "        text-align: right;\n",
       "    }\n",
       "</style>\n",
       "<table border=\"1\" class=\"dataframe\">\n",
       "  <thead>\n",
       "    <tr style=\"text-align: right;\">\n",
       "      <th></th>\n",
       "      <th>message_id</th>\n",
       "      <th>user_id</th>\n",
       "      <th>username</th>\n",
       "      <th>repost_id</th>\n",
       "      <th>reply_id</th>\n",
       "      <th>message</th>\n",
       "      <th>timestamp</th>\n",
       "      <th>urls</th>\n",
       "    </tr>\n",
       "  </thead>\n",
       "  <tbody>\n",
       "    <tr>\n",
       "      <th>0</th>\n",
       "      <td>4753594844449805</td>\n",
       "      <td>1044050113</td>\n",
       "      <td>康灵毅</td>\n",
       "      <td>NaN</td>\n",
       "      <td>0</td>\n",
       "      <td>俄罗斯总统普京3月31日签署总统令，对俄“非友好国家和地区”以卢布支付俄罗斯天然气的新规于4...</td>\n",
       "      <td>1648857540000</td>\n",
       "      <td>'https://wx1.sinaimg.cn/large/3e3af0c1ly1h0unx...</td>\n",
       "    </tr>\n",
       "    <tr>\n",
       "      <th>1</th>\n",
       "      <td>4753594513360542</td>\n",
       "      <td>6004371911</td>\n",
       "      <td>军机白虎堂</td>\n",
       "      <td>NaN</td>\n",
       "      <td>7</td>\n",
       "      <td>“亚速营”的末日到了，他们已经被挤在马里乌波尔最后的“钢铁营地”里面，空间所剩无几。据说经过...</td>\n",
       "      <td>1648857480000</td>\n",
       "      <td>'https://wx1.sinaimg.cn/large/006ylJqfgy1h0unw...</td>\n",
       "    </tr>\n",
       "    <tr>\n",
       "      <th>2</th>\n",
       "      <td>4753594820070805</td>\n",
       "      <td>1407286161</td>\n",
       "      <td>暗能量泡泡</td>\n",
       "      <td>4.753595e+15</td>\n",
       "      <td>0</td>\n",
       "      <td>乌克兰军阀化了</td>\n",
       "      <td>1648857480000</td>\n",
       "      <td>NaN</td>\n",
       "    </tr>\n",
       "  </tbody>\n",
       "</table>\n",
       "</div>"
      ],
      "text/plain": [
       "         message_id     user_id username     repost_id  reply_id  \\\n",
       "0  4753594844449805  1044050113      康灵毅           NaN         0   \n",
       "1  4753594513360542  6004371911    军机白虎堂           NaN         7   \n",
       "2  4753594820070805  1407286161    暗能量泡泡  4.753595e+15         0   \n",
       "\n",
       "                                             message      timestamp  \\\n",
       "0  俄罗斯总统普京3月31日签署总统令，对俄“非友好国家和地区”以卢布支付俄罗斯天然气的新规于4...  1648857540000   \n",
       "1  “亚速营”的末日到了，他们已经被挤在马里乌波尔最后的“钢铁营地”里面，空间所剩无几。据说经过...  1648857480000   \n",
       "2                                            乌克兰军阀化了  1648857480000   \n",
       "\n",
       "                                                urls  \n",
       "0  'https://wx1.sinaimg.cn/large/3e3af0c1ly1h0unx...  \n",
       "1  'https://wx1.sinaimg.cn/large/006ylJqfgy1h0unw...  \n",
       "2                                                NaN  "
      ]
     },
     "execution_count": 37,
     "metadata": {},
     "output_type": "execute_result"
    }
   ],
   "source": [
    "# csv_filename = \"/Users/guangnanzhu/Desktop/Projects/CN Toolkit/rio-conet/coordination-network-toolkit/dataset_test/PeopleDaily-toy-dataset/ukraine_weibo_node.csv\"\n",
    "df = pd.read_csv(csv_filename)\n",
    "df.head(3)"
   ]
  },
  {
   "cell_type": "code",
   "execution_count": 39,
   "metadata": {},
   "outputs": [
    {
     "data": {
      "text/html": [
       "<div>\n",
       "<style scoped>\n",
       "    .dataframe tbody tr th:only-of-type {\n",
       "        vertical-align: middle;\n",
       "    }\n",
       "\n",
       "    .dataframe tbody tr th {\n",
       "        vertical-align: top;\n",
       "    }\n",
       "\n",
       "    .dataframe thead th {\n",
       "        text-align: right;\n",
       "    }\n",
       "</style>\n",
       "<table border=\"1\" class=\"dataframe\">\n",
       "  <thead>\n",
       "    <tr style=\"text-align: right;\">\n",
       "      <th></th>\n",
       "      <th>message_id</th>\n",
       "      <th>user_id</th>\n",
       "      <th>username</th>\n",
       "      <th>repost_id</th>\n",
       "      <th>reply_id</th>\n",
       "      <th>message</th>\n",
       "      <th>timestamp</th>\n",
       "      <th>urls</th>\n",
       "    </tr>\n",
       "  </thead>\n",
       "  <tbody>\n",
       "    <tr>\n",
       "      <th>5609</th>\n",
       "      <td>4747792591099976</td>\n",
       "      <td>1074337642</td>\n",
       "      <td>非飞回来了</td>\n",
       "      <td>NaN</td>\n",
       "      <td>0</td>\n",
       "      <td>//@王峻涛6688:公子所言极是。//@知行不合一的沈公子:他的厉害之处，是能够以乌克兰的...</td>\n",
       "      <td>1647467580000</td>\n",
       "      <td>NaN</td>\n",
       "    </tr>\n",
       "    <tr>\n",
       "      <th>5698</th>\n",
       "      <td>4747791928134294</td>\n",
       "      <td>1401286675</td>\n",
       "      <td>红雨伞V</td>\n",
       "      <td>NaN</td>\n",
       "      <td>0</td>\n",
       "      <td>//@王峻涛6688:公子所言极是。//@知行不合一的沈公子:他的厉害之处，是能够以乌克兰的...</td>\n",
       "      <td>1647467580000</td>\n",
       "      <td>NaN</td>\n",
       "    </tr>\n",
       "    <tr>\n",
       "      <th>13141</th>\n",
       "      <td>4747746327924878</td>\n",
       "      <td>1401286675</td>\n",
       "      <td>红雨伞V</td>\n",
       "      <td>4.747709e+15</td>\n",
       "      <td>0</td>\n",
       "      <td>//@深夜一只猫:这就是最直接的官方立场了！尊重乌克兰的主权和领土完整，呼吁立即停止战争！！...</td>\n",
       "      <td>1647454320000</td>\n",
       "      <td>NaN</td>\n",
       "    </tr>\n",
       "  </tbody>\n",
       "</table>\n",
       "</div>"
      ],
      "text/plain": [
       "             message_id     user_id username     repost_id  reply_id  \\\n",
       "5609   4747792591099976  1074337642    非飞回来了           NaN         0   \n",
       "5698   4747791928134294  1401286675     红雨伞V           NaN         0   \n",
       "13141  4747746327924878  1401286675     红雨伞V  4.747709e+15         0   \n",
       "\n",
       "                                                 message      timestamp urls  \n",
       "5609   //@王峻涛6688:公子所言极是。//@知行不合一的沈公子:他的厉害之处，是能够以乌克兰的...  1647467580000  NaN  \n",
       "5698   //@王峻涛6688:公子所言极是。//@知行不合一的沈公子:他的厉害之处，是能够以乌克兰的...  1647467580000  NaN  \n",
       "13141  //@深夜一只猫:这就是最直接的官方立场了！尊重乌克兰的主权和领土完整，呼吁立即停止战争！！...  1647454320000  NaN  "
      ]
     },
     "execution_count": 39,
     "metadata": {},
     "output_type": "execute_result"
    }
   ],
   "source": [
    "df[(df['user_id'] == 1074337642) | (df['user_id'] == 1401286675) ]"
   ]
  },
  {
   "cell_type": "code",
   "execution_count": 43,
   "metadata": {},
   "outputs": [],
   "source": [
    "from coordination_network_toolkit.similarity import chinese_preprocessor"
   ]
  },
  {
   "cell_type": "code",
   "execution_count": 47,
   "metadata": {},
   "outputs": [],
   "source": [
    "df['message'] = df['message'].apply(str)\n",
    "df['tokened_text'] = df['message'].apply(chinese_preprocessor)"
   ]
  },
  {
   "cell_type": "code",
   "execution_count": 48,
   "metadata": {},
   "outputs": [
    {
     "data": {
      "text/plain": [
       "0    俄罗斯 罗斯 总统 普京 3 月 31 日 签署 总统 总统令     对 俄     非 ...\n",
       "1        亚 速 营     的 末日 到 了     他们 已经 被 挤 在 马里 乌波尔 ...\n",
       "2                                        乌克兰 克兰 军阀 化 了\n",
       "3    战火 首次 烧 到 俄 境内     乌克兰 克兰 两架 武 直 低空 潜入 突袭 俄 境内...\n",
       "4    蔡 正元 这个 已经 说 的 比较 比较清楚 清楚     普京 的 算盘     何 天恩...\n",
       "5        乌克兰 克兰 那么 大 的 一个 国家     不可 可能 没有 精英     这样...\n",
       "6        惨绝人寰 绝人 人寰     俄 称 美方 用 乌克兰 乌克兰人 克兰 人 进行 活...\n",
       "7    感觉 评论 区 得 重修 小学     美国 你 坏事 做 尽        是 真的   ...\n",
       "8        乌 军机 低空 攻击 俄 一 石油 基地 起火 画面     乌克兰 克兰 还是 不...\n",
       "9    乌 军 炸毁 俄 境内 油库     这 到底 是 俄 的 苦肉计 还是 它 家伙 什 真不...\n",
       "Name: tokened_text, dtype: object"
      ]
     },
     "execution_count": 48,
     "metadata": {},
     "output_type": "execute_result"
    }
   ],
   "source": [
    "df['tokened_text'].head(10)"
   ]
  },
  {
   "cell_type": "code",
   "execution_count": 49,
   "metadata": {},
   "outputs": [],
   "source": [
    "def similarity(tokens_1, tokens_2):\n",
    "    set_1 = set(tokens_1.split())\n",
    "    set_2 = set(tokens_2.split())\n",
    "    return len(set_1 & set_2) / len(set_1 | set_2)"
   ]
  },
  {
   "cell_type": "code",
   "execution_count": 51,
   "metadata": {},
   "outputs": [],
   "source": [
    "similarity_pair_dict = dict()\n",
    "\n",
    "for i in range(df.shape[0]-1):\n",
    "    r1_text = df['tokened_text'].iloc[i]\n",
    "    r2_text = df['tokened_text'].iloc[i+1]\n",
    "    \n",
    "    keyname = str(df['message_id'].iloc[i]) + \"-\" + str(df['message_id'].iloc[i+1])\n",
    "    \n",
    "    similarity_pair_dict[keyname] = similarity(r1_text, r2_text)\n",
    "    \n",
    "    "
   ]
  },
  {
   "cell_type": "code",
   "execution_count": 52,
   "metadata": {},
   "outputs": [
    {
     "data": {
      "text/plain": [
       "'4742358644819959-4742360036805041'"
      ]
     },
     "execution_count": 52,
     "metadata": {},
     "output_type": "execute_result"
    }
   ],
   "source": [
    "max(similarity_pair_dict, key=similarity_pair_dict.get)"
   ]
  },
  {
   "cell_type": "code",
   "execution_count": 59,
   "metadata": {},
   "outputs": [
    {
     "data": {
      "text/html": [
       "<div>\n",
       "<style scoped>\n",
       "    .dataframe tbody tr th:only-of-type {\n",
       "        vertical-align: middle;\n",
       "    }\n",
       "\n",
       "    .dataframe tbody tr th {\n",
       "        vertical-align: top;\n",
       "    }\n",
       "\n",
       "    .dataframe thead th {\n",
       "        text-align: right;\n",
       "    }\n",
       "</style>\n",
       "<table border=\"1\" class=\"dataframe\">\n",
       "  <thead>\n",
       "    <tr style=\"text-align: right;\">\n",
       "      <th></th>\n",
       "      <th>user_id</th>\n",
       "      <th>username</th>\n",
       "      <th>message</th>\n",
       "      <th>timestamp</th>\n",
       "    </tr>\n",
       "  </thead>\n",
       "  <tbody>\n",
       "    <tr>\n",
       "      <th>248</th>\n",
       "      <td>5338698416</td>\n",
       "      <td>大江户战士OedoSoldier</td>\n",
       "      <td>乌克兰国家安全和国防委员会秘书阿列克谢·丹尼洛夫说，乌克兰可以对白俄罗斯发动预防性导弹袭击。</td>\n",
       "      <td>1646178660000</td>\n",
       "    </tr>\n",
       "    <tr>\n",
       "      <th>3402</th>\n",
       "      <td>5338698416</td>\n",
       "      <td>大江户战士OedoSoldier</td>\n",
       "      <td>乌克兰国家安全和国防委员会秘书阿列克谢·丹尼洛夫说，乌克兰可以对白俄罗斯发动预防性导弹袭击。</td>\n",
       "      <td>1646178660000</td>\n",
       "    </tr>\n",
       "  </tbody>\n",
       "</table>\n",
       "</div>"
      ],
      "text/plain": [
       "         user_id          username  \\\n",
       "248   5338698416  大江户战士OedoSoldier   \n",
       "3402  5338698416  大江户战士OedoSoldier   \n",
       "\n",
       "                                             message      timestamp  \n",
       "248   乌克兰国家安全和国防委员会秘书阿列克谢·丹尼洛夫说，乌克兰可以对白俄罗斯发动预防性导弹袭击。  1646178660000  \n",
       "3402  乌克兰国家安全和国防委员会秘书阿列克谢·丹尼洛夫说，乌克兰可以对白俄罗斯发动预防性导弹袭击。  1646178660000  "
      ]
     },
     "execution_count": 59,
     "metadata": {},
     "output_type": "execute_result"
    }
   ],
   "source": [
    "df[df.message_id == 4742358644819959][['user_id', 'username', 'message', 'timestamp']]"
   ]
  },
  {
   "cell_type": "code",
   "execution_count": 60,
   "metadata": {},
   "outputs": [
    {
     "data": {
      "text/html": [
       "<div>\n",
       "<style scoped>\n",
       "    .dataframe tbody tr th:only-of-type {\n",
       "        vertical-align: middle;\n",
       "    }\n",
       "\n",
       "    .dataframe tbody tr th {\n",
       "        vertical-align: top;\n",
       "    }\n",
       "\n",
       "    .dataframe thead th {\n",
       "        text-align: right;\n",
       "    }\n",
       "</style>\n",
       "<table border=\"1\" class=\"dataframe\">\n",
       "  <thead>\n",
       "    <tr style=\"text-align: right;\">\n",
       "      <th></th>\n",
       "      <th>user_id</th>\n",
       "      <th>username</th>\n",
       "      <th>message</th>\n",
       "      <th>timestamp</th>\n",
       "    </tr>\n",
       "  </thead>\n",
       "  <tbody>\n",
       "    <tr>\n",
       "      <th>249</th>\n",
       "      <td>7415049232</td>\n",
       "      <td>烤大绿棒子</td>\n",
       "      <td>乌克兰国家安全和国防委员会秘书阿列克谢·丹尼洛夫说，乌克兰可以对白俄罗斯发动预防性导弹袭击。</td>\n",
       "      <td>1646178660000</td>\n",
       "    </tr>\n",
       "    <tr>\n",
       "      <th>3403</th>\n",
       "      <td>7415049232</td>\n",
       "      <td>烤大绿棒子</td>\n",
       "      <td>乌克兰国家安全和国防委员会秘书阿列克谢·丹尼洛夫说，乌克兰可以对白俄罗斯发动预防性导弹袭击。</td>\n",
       "      <td>1646178660000</td>\n",
       "    </tr>\n",
       "  </tbody>\n",
       "</table>\n",
       "</div>"
      ],
      "text/plain": [
       "         user_id username                                         message  \\\n",
       "249   7415049232    烤大绿棒子  乌克兰国家安全和国防委员会秘书阿列克谢·丹尼洛夫说，乌克兰可以对白俄罗斯发动预防性导弹袭击。   \n",
       "3403  7415049232    烤大绿棒子  乌克兰国家安全和国防委员会秘书阿列克谢·丹尼洛夫说，乌克兰可以对白俄罗斯发动预防性导弹袭击。   \n",
       "\n",
       "          timestamp  \n",
       "249   1646178660000  \n",
       "3403  1646178660000  "
      ]
     },
     "execution_count": 60,
     "metadata": {},
     "output_type": "execute_result"
    }
   ],
   "source": [
    "df[df.message_id == 4742360036805041][['user_id', 'username', 'message', 'timestamp']]"
   ]
  },
  {
   "cell_type": "code",
   "execution_count": 40,
   "metadata": {},
   "outputs": [],
   "source": []
  },
  {
   "cell_type": "code",
   "execution_count": null,
   "metadata": {},
   "outputs": [],
   "source": []
  },
  {
   "cell_type": "code",
   "execution_count": null,
   "metadata": {},
   "outputs": [],
   "source": []
  },
  {
   "cell_type": "code",
   "execution_count": 33,
   "metadata": {},
   "outputs": [],
   "source": []
  },
  {
   "cell_type": "code",
   "execution_count": null,
   "metadata": {},
   "outputs": [],
   "source": []
  }
 ],
 "metadata": {
  "kernelspec": {
   "display_name": "Python 3",
   "language": "python",
   "name": "python3"
  },
  "language_info": {
   "codemirror_mode": {
    "name": "ipython",
    "version": 3
   },
   "file_extension": ".py",
   "mimetype": "text/x-python",
   "name": "python",
   "nbconvert_exporter": "python",
   "pygments_lexer": "ipython3",
   "version": "3.6.4"
  }
 },
 "nbformat": 4,
 "nbformat_minor": 2
}
