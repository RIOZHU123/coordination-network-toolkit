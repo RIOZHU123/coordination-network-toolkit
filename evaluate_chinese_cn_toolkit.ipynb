{
 "cells": [
  {
   "cell_type": "code",
   "execution_count": 1,
   "metadata": {},
   "outputs": [],
   "source": [
    "import coordination_network_toolkit as coord_net_tk\n",
    "import networkx as nx\n",
    "from coordination_network_toolkit.database import COMMAND_TABLE_MAPPING\n",
    "import sqlite3 as lite\n",
    "import re\n",
    "import regex"
   ]
  },
  {
   "cell_type": "code",
   "execution_count": 2,
   "metadata": {},
   "outputs": [
    {
     "name": "stdout",
     "output_type": "stream",
     "text": [
      "Begin preprocessing ./dataset_test/ukr-rus/preprocess_ukr_weibo.csv into ./dataset_test/ukr-rus/ukraine_weibo.db\n",
      "Done preprocessing ./dataset_test/ukr-rus/preprocess_ukr_weibo.csv into ./dataset_test/ukr-rus/ukraine_weibo.db\n"
     ]
    }
   ],
   "source": [
    "# json_filename = \"./dataset_test/PeopleDaily-toy-dataset/shanghai_covid.json\"\n",
    "\n",
    "csv_filename = \"./dataset_test/ukr-rus/preprocess_ukr_weibo.csv\"\n",
    "\n",
    "ori_csv_filename = \"/Users/guangnanzhu/Desktop/Projects/DECRA-coordnet-nectar/Dataset/Weibo/ukr-rus/result/乌克兰/乌克兰.csv\"\n",
    "\n",
    "save_directory = './dataset_test/ukr-rus/'\n",
    "\n",
    "db_name = save_directory + \"ukraine_weibo.db\"\n",
    "\n",
    "coord_net_tk.preprocess.preprocess_weibo_data(ori_csv_filename, csv_filename)\n",
    "\n",
    "coord_net_tk.preprocess.preprocess_csv_files(db_name, [csv_filename])"
   ]
  },
  {
   "cell_type": "code",
   "execution_count": 3,
   "metadata": {},
   "outputs": [
    {
     "name": "stdout",
     "output_type": "stream",
     "text": [
      "Applying text normalisation for cotweet\n",
      "Ensuring the necessary indexes exists\n",
      "computing co_tweet network\n",
      "Completed 5 / 41\n",
      "Completed 10 / 41\n",
      "Completed 15 / 41\n",
      "Completed 20 / 41\n",
      "Completed 25 / 41\n",
      "Completed 30 / 41\n",
      "Completed 35 / 41\n",
      "Completed 40 / 41\n",
      "Completed 41 / 41\n"
     ]
    },
    {
     "data": {
      "text/plain": [
       "41"
      ]
     },
     "execution_count": 3,
     "metadata": {},
     "output_type": "execute_result"
    }
   ],
   "source": [
    "coord_net_tk.compute_networks.compute_co_tweet_network(db_name, 60)"
   ]
  },
  {
   "cell_type": "code",
   "execution_count": 4,
   "metadata": {},
   "outputs": [],
   "source": [
    "command = \"co_tweet\""
   ]
  },
  {
   "cell_type": "code",
   "execution_count": 5,
   "metadata": {},
   "outputs": [],
   "source": [
    "similarity_graph = coord_net_tk.graph.load_networkx_graph(db_name, command)"
   ]
  },
  {
   "cell_type": "code",
   "execution_count": 6,
   "metadata": {},
   "outputs": [],
   "source": [
    "coord_net_tk.output.output_gephi_csv(db_name, command, str(save_directory + 'ukraine_weibo_network.csv'))"
   ]
  },
  {
   "cell_type": "code",
   "execution_count": 7,
   "metadata": {},
   "outputs": [],
   "source": [
    "coord_net_tk.output.output_node_csv(db_name, str(save_directory + 'ukraine_weibo_network_node.csv'))"
   ]
  },
  {
   "cell_type": "code",
   "execution_count": 8,
   "metadata": {},
   "outputs": [],
   "source": [
    "coord_net_tk.output.output_graphml(db_name, command, str(save_directory + 'ukraine_weibo.graphml'))"
   ]
  },
  {
   "cell_type": "code",
   "execution_count": null,
   "metadata": {},
   "outputs": [],
   "source": []
  },
  {
   "cell_type": "code",
   "execution_count": null,
   "metadata": {},
   "outputs": [],
   "source": []
  },
  {
   "cell_type": "code",
   "execution_count": 9,
   "metadata": {},
   "outputs": [
    {
     "name": "stdout",
     "output_type": "stream",
     "text": [
      "('1003050992', '2315604141', 1, 'co_tweet')\n",
      "('1074337642', '1401286675', 1, 'co_tweet')\n",
      "('1074337642', '1460923302', 1, 'co_tweet')\n",
      "('1074337642', '1685591353', 1, 'co_tweet')\n",
      "('1074337642', '1751501125', 1, 'co_tweet')\n",
      "('1074337642', '1921805223', 1, 'co_tweet')\n",
      "('1074337642', '2202735170', 1, 'co_tweet')\n",
      "('1074337642', '2245177021', 1, 'co_tweet')\n",
      "('1074337642', '2369213632', 1, 'co_tweet')\n",
      "('1074337642', '2719233071', 1, 'co_tweet')\n",
      "Number of Edges: 608\n"
     ]
    }
   ],
   "source": [
    "edges = coord_net_tk.graph.get_edge_rows(db_name, command)\n",
    "counter = 0\n",
    "for e in edges:\n",
    "    if counter < 10:\n",
    "        print(e)  \n",
    "    counter += 1\n",
    "print(\"Number of Edges: \" + str(counter))"
   ]
  },
  {
   "cell_type": "code",
   "execution_count": 10,
   "metadata": {},
   "outputs": [
    {
     "name": "stdout",
     "output_type": "stream",
     "text": [
      "['1000124571', '布道宽窄', '宽窄观察#俄罗斯乌克兰局势#【马斯克放言让俄核武哑火】', '宽窄观察#俄罗斯乌克兰局势#【美国正与乌克兰军事伙伴“完全”共享情报】美国军队为乌克兰军队提供“情报、监视、侦察或任何其他方式的支持”，使得俄罗斯伤亡惨重，战局推进不力。在网络反击上，隐藏在美国驻东欧国家军事基地的美国网络司令部多个“网络任务小组”正在那里干扰俄方对乌克兰的网络攻击、干扰俄军通信。在情报支持领域，美国和德国情报官员根据监听到的俄军通信内容，在卫星图像上勾勾划划，研究俄部队在哪里集结，并在一两小时内将分析结果告知乌军。L布道宽窄的微博', '', '', '', '', '', '', '', '']\n",
      "['1000683583', '飞翔在空中的鱼儿2011', 'IMF：#乌克兰危机#或根本改变全球经济秩序国际货币基金组织（IMF）表示，长期来看，乌克兰危机或将根本改变全球经济和地缘政治秩序。乌克兰危机对全球各地区经济的影响主要通过三个渠道传导：一是食品和能源等大宗商品价格上涨进一步推高通胀，进而侵蚀收入并打击需求；二是与俄罗斯、乌克兰邻近的经济体面临贸易、供应链和汇款中断等问题；三是企业信心下降和不确定性上升对资产价格造成压力，可能导致金融环境收紧和国际资本流出新兴市', '', '', '', '', '', '', '', '', '']\n",
      "['1002224393', '老陶在路上', '乌军打俄军坦克#俄乌局势观察团##v光计划#L老陶在路上的微博视频', '', '', '', '', '', '', '', '', '']\n",
      "['1003050992', '方胜_60891', '//@王强毛巾:比乌克兰人民还悲惨//@一眸荒塘://@孤峰买醉:朗朗乾坤下，还有多少被某些人称为＂丈夫＂的＂撒旦＂呢？', '', '', '', '', '', '', '', '', '']\n",
      "['1003340321', '啵叽猫子', '绝//@一个忧伤者的大牙花子:世界上有五种头，箭头线头石头罐头还有周深:宝你个头//@暮酒余温:世界上有五种粥，米粥南瓜粥八宝粥小白粥还有一拳揍得你旋转五粥//世界上有五种居，居八戒豪居蠢居乌克兰小乳居和周深：你们给我立字居！//:世界上有五种马：大马小马黑马白马和周深：你礼貌马', '', '', '', '', '', '', '', '', '']\n",
      "['1004775915', '橘清一', '//@c丨l_konG丨://@苔藓不太绿:把各个国家，不同时间的爆炸视频这次都拿来给乌克兰凑数，结果一个个的被人给扒了出来', '', '', '', '', '', '', '', '', '']\n",
      "['1005753444', 'wensm888', '//@高程CASS:老胡这篇可以点赞（俄罗斯，乌克兰）', '', '', '', '', '', '', '', '', '']\n",
      "['1008275600', '用我户', '@评论员曹林1名美国公民提裤子逃出了乌克兰战区，成功撤回美国，然后第二天在美国本土死于美国枪击案……', '@美国驻华大使馆@评论员曹林@水墨陈丹青@鄂烈山@乌克兰信使1名美国公民提裤子逃出了乌克兰战区，成功撤回美国，然后第二天在美国本土死于美国枪击案……', '', '', '', '', '', '', '', '']\n",
      "['1008746521', '京城张宝', '【#普京发表讲话称没有占领乌克兰的计划#】据央视，当地时间16日，俄罗斯总统普京发表电视讲话。普京表示，特别军事行动进展顺利，正在按计划执行。俄军虽然接近基辅和乌克兰其他城市，但是没有占领乌克兰的计划和目的。', '#梅德韦杰夫回应法国部长经济和金融战言论#【法部长称欧盟将对俄发起“经济和金融战争”，梅德韦杰夫“强硬”回应】综合俄罗斯卫星通讯社、俄新社等媒体3月1日报道，法国经济和财政部部长勒梅尔在接受媒体采访时称，欧盟“计划对俄罗斯发起全面经济和金融战争”。对此，俄罗斯联邦安全会议副主席梅德韦杰夫回应说，请不要忘记，人类历史上经济战经常会演变为真正的战争。卫星通讯社形容梅德韦杰夫的表态“强硬”。梅德韦杰夫3月1日发推文称，“有位法国部长今天说，他们宣布向我们发起经济战。请各位注意自己的言论！也请不要忘记，人类历史上经济战经常会演变为真正的战争。”近日，针对俄罗斯对乌克兰的特别军事行动，美国、英国、加拿大、日本以及欧盟等宣布对俄罗斯实施制裁，包括将部分俄罗斯银行排除出环球银行间金融通信协会（SWIFT）支付系统，对俄罗斯关闭领空、禁止今日俄罗斯和卫星通讯社的新闻信息产品在欧盟落地和传播等。俄罗斯联邦安全会议副主席梅德韦杰夫2月26日表示，对俄制裁是（西方）中断（同俄方）战略安全对话的借口，这些制裁“什么也改变不了”。他还说，（西方）对俄公民和在海外俄企实施的资产扣押制裁，俄方将对等回应。@环', '', '', '', '', '', '', '', '']\n",
      "Number of nodes: <generator object get_node_rows at 0x7feb7041eaf0>\n"
     ]
    }
   ],
   "source": [
    "nodes = coord_net_tk.graph.get_node_rows(db_name, n_messages=10)\n",
    "counter = 0\n",
    "for row in nodes:\n",
    "    counter += 1\n",
    "    if counter < 10:\n",
    "        print(row)\n",
    "print(\"Number of nodes: \" + str(nodes))"
   ]
  },
  {
   "cell_type": "code",
   "execution_count": 11,
   "metadata": {},
   "outputs": [
    {
     "name": "stdout",
     "output_type": "stream",
     "text": [
      "{'1003050992', '2315604141'}\n",
      "{'1401286675', '2821797691', '2245177021', '1685591353', '1460923302', '7731301110', '7449732583', '7577364863', '1074337642', '2369213632', '2719233071', '7410362429', '1751501125', '2202735170', '5189250470', '1921805223', '6240828519'}\n",
      "{'1087811515', '1946064754'}\n",
      "{'1233302995', '7498357451'}\n",
      "{'1369270154', '5873139785'}\n",
      "{'6969117632', '5617036708', '6243826146', '1499104401'}\n",
      "{'7395720159', '1621322781', '1697109141', '6260502509', '3560504673', '2096920270', '5089744601', '6119286204', '1859428424', '6207249599', '3132941572', '2746862553', '1645011900', '2008165825', '1712579300', '7706484560'}\n",
      "{'6068931227', '1646817362', '1934255493', '2258977224'}\n",
      "{'2414369130', '1707450894'}\n",
      "{'7348018856', '1967993381', '1747766363', '1921500270'}\n",
      "{'1782370260', '6285009867'}\n",
      "{'3165590770', '1903532884', '1821050932'}\n",
      "{'2813634904', '1886305985'}\n",
      "{'1958259195', '5514333673', '3368847174', '1897464600'}\n",
      "{'1918608731', '2268621352', '2881706372'}\n",
      "{'1965683690', '6989811868', '6008483913'}\n",
      "{'2037877592', '2354486417'}\n",
      "{'2179096360', '2179608200', '2234534807'}\n",
      "{'2216791820', '5165461491'}\n",
      "{'5186856444', '5092088752', '2275345674'}\n",
      "{'2521026624', '2282787895', '7573115352'}\n",
      "{'7734872757', '7508526106', '5212874368', '5484769330', '6668416166', '3458288384', '2611584093'}\n",
      "{'2645009584', '5973220849'}\n",
      "{'2797034911', '5930708041'}\n",
      "{'3322271674', '2877250764'}\n",
      "{'3146473603', '7390064707'}\n",
      "{'7657724434', '3170452292'}\n",
      "{'6315206710', '3919603060'}\n",
      "{'6042210548', '5064554108'}\n",
      "{'5884281567', '5236331492'}\n",
      "{'5308922637', '6897982164'}\n",
      "{'7474402206', '5675456707'}\n",
      "{'7392910023', '5913911374'}\n",
      "{'5953272782', '6996392843', '7548286160'}\n",
      "{'6515953883', '7549320978'}\n",
      "{'7277874827', '6838494152'}\n"
     ]
    }
   ],
   "source": [
    "# similarity_graph\n",
    "for g in nx.strongly_connected_components(similarity_graph):\n",
    "    print(g)"
   ]
  },
  {
   "cell_type": "code",
   "execution_count": 12,
   "metadata": {},
   "outputs": [
    {
     "name": "stdout",
     "output_type": "stream",
     "text": [
      "{'1003050992', '2315604141'}\n",
      "{'1401286675', '2821797691', '2245177021', '1685591353', '1460923302', '7731301110', '7449732583', '7577364863', '1074337642', '2369213632', '2719233071', '7410362429', '1751501125', '2202735170', '5189250470', '1921805223', '6240828519'}\n",
      "{'1087811515', '1946064754'}\n",
      "{'1233302995', '7498357451'}\n",
      "{'1369270154', '5873139785'}\n",
      "{'6969117632', '5617036708', '6243826146', '1499104401'}\n",
      "{'7395720159', '1621322781', '6260502509', '1697109141', '3560504673', '2096920270', '5089744601', '6119286204', '1859428424', '6207249599', '3132941572', '2746862553', '1645011900', '2008165825', '1712579300', '7706484560'}\n",
      "{'6068931227', '1646817362', '1934255493', '2258977224'}\n",
      "{'2414369130', '1707450894'}\n",
      "{'7348018856', '1967993381', '1747766363', '1921500270'}\n",
      "{'1782370260', '6285009867'}\n",
      "{'3165590770', '1903532884', '1821050932'}\n",
      "{'2813634904', '1886305985'}\n",
      "{'1958259195', '5514333673', '3368847174', '1897464600'}\n",
      "{'1918608731', '2268621352', '2881706372'}\n",
      "{'1965683690', '6989811868', '6008483913'}\n",
      "{'2037877592', '2354486417'}\n",
      "{'2179096360', '2179608200', '2234534807'}\n",
      "{'2216791820', '5165461491'}\n",
      "{'5186856444', '5092088752', '2275345674'}\n",
      "{'2521026624', '2282787895', '7573115352'}\n",
      "{'7734872757', '7508526106', '5212874368', '5484769330', '6668416166', '3458288384', '2611584093'}\n",
      "{'2645009584', '5973220849'}\n",
      "{'2797034911', '5930708041'}\n",
      "{'3322271674', '2877250764'}\n",
      "{'3146473603', '7390064707'}\n",
      "{'7657724434', '3170452292'}\n",
      "{'6315206710', '3919603060'}\n",
      "{'6042210548', '5064554108'}\n",
      "{'5884281567', '5236331492'}\n",
      "{'5308922637', '6897982164'}\n",
      "{'7474402206', '5675456707'}\n",
      "{'7392910023', '5913911374'}\n",
      "{'5953272782', '6996392843', '7548286160'}\n",
      "{'6515953883', '7549320978'}\n",
      "{'7277874827', '6838494152'}\n"
     ]
    }
   ],
   "source": [
    "for g in nx.weakly_connected_components(similarity_graph):\n",
    "    print(g)"
   ]
  },
  {
   "cell_type": "code",
   "execution_count": null,
   "metadata": {},
   "outputs": [],
   "source": []
  },
  {
   "cell_type": "code",
   "execution_count": null,
   "metadata": {},
   "outputs": [],
   "source": []
  },
  {
   "cell_type": "code",
   "execution_count": null,
   "metadata": {},
   "outputs": [],
   "source": []
  },
  {
   "cell_type": "code",
   "execution_count": null,
   "metadata": {},
   "outputs": [],
   "source": []
  },
  {
   "cell_type": "code",
   "execution_count": null,
   "metadata": {},
   "outputs": [],
   "source": []
  },
  {
   "cell_type": "code",
   "execution_count": null,
   "metadata": {},
   "outputs": [],
   "source": []
  },
  {
   "cell_type": "code",
   "execution_count": null,
   "metadata": {},
   "outputs": [],
   "source": []
  },
  {
   "cell_type": "code",
   "execution_count": 13,
   "metadata": {},
   "outputs": [],
   "source": [
    "import pandas as pd"
   ]
  },
  {
   "cell_type": "code",
   "execution_count": 14,
   "metadata": {},
   "outputs": [
    {
     "data": {
      "text/html": [
       "<div>\n",
       "<style scoped>\n",
       "    .dataframe tbody tr th:only-of-type {\n",
       "        vertical-align: middle;\n",
       "    }\n",
       "\n",
       "    .dataframe tbody tr th {\n",
       "        vertical-align: top;\n",
       "    }\n",
       "\n",
       "    .dataframe thead th {\n",
       "        text-align: right;\n",
       "    }\n",
       "</style>\n",
       "<table border=\"1\" class=\"dataframe\">\n",
       "  <thead>\n",
       "    <tr style=\"text-align: right;\">\n",
       "      <th></th>\n",
       "      <th>message_id</th>\n",
       "      <th>user_id</th>\n",
       "      <th>username</th>\n",
       "      <th>repost_id</th>\n",
       "      <th>reply_id</th>\n",
       "      <th>message</th>\n",
       "      <th>timestamp</th>\n",
       "      <th>urls</th>\n",
       "    </tr>\n",
       "  </thead>\n",
       "  <tbody>\n",
       "    <tr>\n",
       "      <th>0</th>\n",
       "      <td>4753594844449805</td>\n",
       "      <td>1044050113</td>\n",
       "      <td>康灵毅</td>\n",
       "      <td>NaN</td>\n",
       "      <td>0</td>\n",
       "      <td>俄罗斯总统普京3月31日签署总统令，对俄“非友好国家和地区”以卢布支付俄罗斯天然气的新规于4...</td>\n",
       "      <td>1648857540000</td>\n",
       "      <td>'https://wx1.sinaimg.cn/large/3e3af0c1ly1h0unx...</td>\n",
       "    </tr>\n",
       "    <tr>\n",
       "      <th>1</th>\n",
       "      <td>4753594513360542</td>\n",
       "      <td>6004371911</td>\n",
       "      <td>军机白虎堂</td>\n",
       "      <td>NaN</td>\n",
       "      <td>7</td>\n",
       "      <td>“亚速营”的末日到了，他们已经被挤在马里乌波尔最后的“钢铁营地”里面，空间所剩无几。据说经过...</td>\n",
       "      <td>1648857480000</td>\n",
       "      <td>'https://wx1.sinaimg.cn/large/006ylJqfgy1h0unw...</td>\n",
       "    </tr>\n",
       "    <tr>\n",
       "      <th>2</th>\n",
       "      <td>4753594820070805</td>\n",
       "      <td>1407286161</td>\n",
       "      <td>暗能量泡泡</td>\n",
       "      <td>4.753595e+15</td>\n",
       "      <td>0</td>\n",
       "      <td>乌克兰军阀化了</td>\n",
       "      <td>1648857480000</td>\n",
       "      <td>NaN</td>\n",
       "    </tr>\n",
       "  </tbody>\n",
       "</table>\n",
       "</div>"
      ],
      "text/plain": [
       "         message_id     user_id username     repost_id  reply_id  \\\n",
       "0  4753594844449805  1044050113      康灵毅           NaN         0   \n",
       "1  4753594513360542  6004371911    军机白虎堂           NaN         7   \n",
       "2  4753594820070805  1407286161    暗能量泡泡  4.753595e+15         0   \n",
       "\n",
       "                                             message      timestamp  \\\n",
       "0  俄罗斯总统普京3月31日签署总统令，对俄“非友好国家和地区”以卢布支付俄罗斯天然气的新规于4...  1648857540000   \n",
       "1  “亚速营”的末日到了，他们已经被挤在马里乌波尔最后的“钢铁营地”里面，空间所剩无几。据说经过...  1648857480000   \n",
       "2                                            乌克兰军阀化了  1648857480000   \n",
       "\n",
       "                                                urls  \n",
       "0  'https://wx1.sinaimg.cn/large/3e3af0c1ly1h0unx...  \n",
       "1  'https://wx1.sinaimg.cn/large/006ylJqfgy1h0unw...  \n",
       "2                                                NaN  "
      ]
     },
     "execution_count": 14,
     "metadata": {},
     "output_type": "execute_result"
    }
   ],
   "source": [
    "# csv_filename = \"/Users/guangnanzhu/Desktop/Projects/CN Toolkit/rio-conet/coordination-network-toolkit/dataset_test/PeopleDaily-toy-dataset/ukraine_weibo_node.csv\"\n",
    "df = pd.read_csv(csv_filename)\n",
    "df.head(3)"
   ]
  },
  {
   "cell_type": "code",
   "execution_count": 15,
   "metadata": {},
   "outputs": [
    {
     "data": {
      "text/html": [
       "<div>\n",
       "<style scoped>\n",
       "    .dataframe tbody tr th:only-of-type {\n",
       "        vertical-align: middle;\n",
       "    }\n",
       "\n",
       "    .dataframe tbody tr th {\n",
       "        vertical-align: top;\n",
       "    }\n",
       "\n",
       "    .dataframe thead th {\n",
       "        text-align: right;\n",
       "    }\n",
       "</style>\n",
       "<table border=\"1\" class=\"dataframe\">\n",
       "  <thead>\n",
       "    <tr style=\"text-align: right;\">\n",
       "      <th></th>\n",
       "      <th>message_id</th>\n",
       "      <th>user_id</th>\n",
       "      <th>username</th>\n",
       "      <th>repost_id</th>\n",
       "      <th>reply_id</th>\n",
       "      <th>message</th>\n",
       "      <th>timestamp</th>\n",
       "      <th>urls</th>\n",
       "    </tr>\n",
       "  </thead>\n",
       "  <tbody>\n",
       "    <tr>\n",
       "      <th>4247</th>\n",
       "      <td>4747792591099976</td>\n",
       "      <td>1074337642</td>\n",
       "      <td>非飞回来了</td>\n",
       "      <td>NaN</td>\n",
       "      <td>0</td>\n",
       "      <td>//@王峻涛6688:公子所言极是。//@知行不合一的沈公子:他的厉害之处，是能够以乌克兰的...</td>\n",
       "      <td>1647467580000</td>\n",
       "      <td>NaN</td>\n",
       "    </tr>\n",
       "    <tr>\n",
       "      <th>4334</th>\n",
       "      <td>4747791928134294</td>\n",
       "      <td>1401286675</td>\n",
       "      <td>红雨伞V</td>\n",
       "      <td>NaN</td>\n",
       "      <td>0</td>\n",
       "      <td>//@王峻涛6688:公子所言极是。//@知行不合一的沈公子:他的厉害之处，是能够以乌克兰的...</td>\n",
       "      <td>1647467580000</td>\n",
       "      <td>NaN</td>\n",
       "    </tr>\n",
       "    <tr>\n",
       "      <th>9293</th>\n",
       "      <td>4747746327924878</td>\n",
       "      <td>1401286675</td>\n",
       "      <td>红雨伞V</td>\n",
       "      <td>4.747709e+15</td>\n",
       "      <td>0</td>\n",
       "      <td>//@深夜一只猫:这就是最直接的官方立场了！尊重乌克兰的主权和领土完整，呼吁立即停止战争！！...</td>\n",
       "      <td>1647454320000</td>\n",
       "      <td>NaN</td>\n",
       "    </tr>\n",
       "  </tbody>\n",
       "</table>\n",
       "</div>"
      ],
      "text/plain": [
       "            message_id     user_id username     repost_id  reply_id  \\\n",
       "4247  4747792591099976  1074337642    非飞回来了           NaN         0   \n",
       "4334  4747791928134294  1401286675     红雨伞V           NaN         0   \n",
       "9293  4747746327924878  1401286675     红雨伞V  4.747709e+15         0   \n",
       "\n",
       "                                                message      timestamp urls  \n",
       "4247  //@王峻涛6688:公子所言极是。//@知行不合一的沈公子:他的厉害之处，是能够以乌克兰的...  1647467580000  NaN  \n",
       "4334  //@王峻涛6688:公子所言极是。//@知行不合一的沈公子:他的厉害之处，是能够以乌克兰的...  1647467580000  NaN  \n",
       "9293  //@深夜一只猫:这就是最直接的官方立场了！尊重乌克兰的主权和领土完整，呼吁立即停止战争！！...  1647454320000  NaN  "
      ]
     },
     "execution_count": 15,
     "metadata": {},
     "output_type": "execute_result"
    }
   ],
   "source": [
    "df[(df['user_id'] == 1074337642) | (df['user_id'] == 1401286675) ]"
   ]
  },
  {
   "cell_type": "code",
   "execution_count": 16,
   "metadata": {},
   "outputs": [],
   "source": [
    "from coordination_network_toolkit.similarity import chinese_preprocessor"
   ]
  },
  {
   "cell_type": "code",
   "execution_count": 17,
   "metadata": {},
   "outputs": [
    {
     "name": "stderr",
     "output_type": "stream",
     "text": [
      "Building prefix dict from the default dictionary ...\n",
      "Loading model from cache /var/folders/6n/7ljtnpkd2h10z9k6r0m2psmh0000gn/T/jieba.cache\n",
      "Loading model cost 0.880 seconds.\n",
      "Prefix dict has been built successfully.\n"
     ]
    }
   ],
   "source": [
    "df['message'] = df['message'].apply(str)\n",
    "df['tokened_text'] = df['message'].apply(chinese_preprocessor)"
   ]
  },
  {
   "cell_type": "code",
   "execution_count": 18,
   "metadata": {},
   "outputs": [
    {
     "data": {
      "text/plain": [
       "0    俄罗斯 罗斯 总统 普京 3 月 31 日 签署 总统 总统令     对 俄     非 ...\n",
       "1        亚 速 营     的 末日 到 了     他们 已经 被 挤 在 马里 乌波尔 ...\n",
       "2                                        乌克兰 克兰 军阀 化 了\n",
       "3    战火 首次 烧 到 俄 境内     乌克兰 克兰 两架 武 直 低空 潜入 突袭 俄 境内...\n",
       "4    蔡 正元 这个 已经 说 的 比较 比较清楚 清楚     普京 的 算盘     何 天恩...\n",
       "5        乌克兰 克兰 那么 大 的 一个 国家     不可 可能 没有 精英     这样...\n",
       "6        惨绝人寰 绝人 人寰     俄 称 美方 用 乌克兰 乌克兰人 克兰 人 进行 活...\n",
       "7    感觉 评论 区 得 重修 小学     美国 你 坏事 做 尽        是 真的   ...\n",
       "8        乌 军机 低空 攻击 俄 一 石油 基地 起火 画面     乌克兰 克兰 还是 不...\n",
       "9    乌 军 炸毁 俄 境内 油库     这 到底 是 俄 的 苦肉计 还是 它 家伙 什 真不...\n",
       "Name: tokened_text, dtype: object"
      ]
     },
     "execution_count": 18,
     "metadata": {},
     "output_type": "execute_result"
    }
   ],
   "source": [
    "df['tokened_text'].head(10)"
   ]
  },
  {
   "cell_type": "code",
   "execution_count": 19,
   "metadata": {},
   "outputs": [],
   "source": [
    "def similarity(tokens_1, tokens_2):\n",
    "    set_1 = set(tokens_1.split())\n",
    "    set_2 = set(tokens_2.split())\n",
    "    return len(set_1 & set_2) / len(set_1 | set_2)"
   ]
  },
  {
   "cell_type": "code",
   "execution_count": 20,
   "metadata": {},
   "outputs": [],
   "source": [
    "similarity_pair_dict = dict()\n",
    "\n",
    "for i in range(df.shape[0]-1):\n",
    "    r1_text = df['tokened_text'].iloc[i]\n",
    "    r2_text = df['tokened_text'].iloc[i+1]\n",
    "    \n",
    "    keyname = str(df['message_id'].iloc[i]) + \"-\" + str(df['message_id'].iloc[i+1])\n",
    "    \n",
    "    similarity_pair_dict[keyname] = similarity(r1_text, r2_text)\n",
    "    \n",
    "    "
   ]
  },
  {
   "cell_type": "code",
   "execution_count": 21,
   "metadata": {},
   "outputs": [
    {
     "data": {
      "text/plain": [
       "'4742358644819959-4742360036805041'"
      ]
     },
     "execution_count": 21,
     "metadata": {},
     "output_type": "execute_result"
    }
   ],
   "source": [
    "df.sort_values(by=['timestamp'], ascending=True)\n",
    "max(similarity_pair_dict, key=similarity_pair_dict.get)"
   ]
  },
  {
   "cell_type": "code",
   "execution_count": 27,
   "metadata": {},
   "outputs": [
    {
     "data": {
      "text/html": [
       "<div>\n",
       "<style scoped>\n",
       "    .dataframe tbody tr th:only-of-type {\n",
       "        vertical-align: middle;\n",
       "    }\n",
       "\n",
       "    .dataframe tbody tr th {\n",
       "        vertical-align: top;\n",
       "    }\n",
       "\n",
       "    .dataframe thead th {\n",
       "        text-align: right;\n",
       "    }\n",
       "</style>\n",
       "<table border=\"1\" class=\"dataframe\">\n",
       "  <thead>\n",
       "    <tr style=\"text-align: right;\">\n",
       "      <th></th>\n",
       "      <th>user_id</th>\n",
       "      <th>username</th>\n",
       "      <th>message</th>\n",
       "      <th>timestamp</th>\n",
       "      <th>tokened_text</th>\n",
       "    </tr>\n",
       "  </thead>\n",
       "  <tbody>\n",
       "    <tr>\n",
       "      <th>475</th>\n",
       "      <td>1768730480</td>\n",
       "      <td>-T-Wac-</td>\n",
       "      <td>//@林熊猫:🤮🤮🤮//@重工组长于彦舒://@烤肉君KoRu:对于某些嘴脸的认知更立体了呢...</td>\n",
       "      <td>1646069280000</td>\n",
       "      <td>🤮🤮🤮    对于 某些 嘴脸 的 认知 更 立体 了 呢     进一步 一步 认识...</td>\n",
       "    </tr>\n",
       "  </tbody>\n",
       "</table>\n",
       "</div>"
      ],
      "text/plain": [
       "        user_id username                                            message  \\\n",
       "475  1768730480  -T-Wac-  //@林熊猫:🤮🤮🤮//@重工组长于彦舒://@烤肉君KoRu:对于某些嘴脸的认知更立体了呢...   \n",
       "\n",
       "         timestamp                                       tokened_text  \n",
       "475  1646069280000     🤮🤮🤮    对于 某些 嘴脸 的 认知 更 立体 了 呢     进一步 一步 认识...  "
      ]
     },
     "execution_count": 27,
     "metadata": {},
     "output_type": "execute_result"
    }
   ],
   "source": [
    "df[df.message_id == 4742359328491121][['user_id', 'username', 'message', 'timestamp', 'tokened_text']]"
   ]
  },
  {
   "cell_type": "code",
   "execution_count": 28,
   "metadata": {},
   "outputs": [
    {
     "data": {
      "text/html": [
       "<div>\n",
       "<style scoped>\n",
       "    .dataframe tbody tr th:only-of-type {\n",
       "        vertical-align: middle;\n",
       "    }\n",
       "\n",
       "    .dataframe tbody tr th {\n",
       "        vertical-align: top;\n",
       "    }\n",
       "\n",
       "    .dataframe thead th {\n",
       "        text-align: right;\n",
       "    }\n",
       "</style>\n",
       "<table border=\"1\" class=\"dataframe\">\n",
       "  <thead>\n",
       "    <tr style=\"text-align: right;\">\n",
       "      <th></th>\n",
       "      <th>user_id</th>\n",
       "      <th>username</th>\n",
       "      <th>message</th>\n",
       "      <th>timestamp</th>\n",
       "      <th>tokened_text</th>\n",
       "    </tr>\n",
       "  </thead>\n",
       "  <tbody>\n",
       "    <tr>\n",
       "      <th>476</th>\n",
       "      <td>3178921264</td>\n",
       "      <td>Sheungfan</td>\n",
       "      <td>//@妖妖小精://@林熊猫:🤮🤮🤮//@重工组长于彦舒://@烤肉君KoRu:对于某些嘴脸...</td>\n",
       "      <td>1646069280000</td>\n",
       "      <td>🤮🤮🤮    对于 某些 嘴脸 的 认知 更 立体 了 呢     进一步 一步 认识...</td>\n",
       "    </tr>\n",
       "  </tbody>\n",
       "</table>\n",
       "</div>"
      ],
      "text/plain": [
       "        user_id   username                                            message  \\\n",
       "476  3178921264  Sheungfan  //@妖妖小精://@林熊猫:🤮🤮🤮//@重工组长于彦舒://@烤肉君KoRu:对于某些嘴脸...   \n",
       "\n",
       "         timestamp                                       tokened_text  \n",
       "476  1646069280000     🤮🤮🤮    对于 某些 嘴脸 的 认知 更 立体 了 呢     进一步 一步 认识...  "
      ]
     },
     "execution_count": 28,
     "metadata": {},
     "output_type": "execute_result"
    }
   ],
   "source": [
    "df[df.message_id == 4742359319316369][['user_id', 'username', 'message', 'timestamp', 'tokened_text']]"
   ]
  },
  {
   "cell_type": "code",
   "execution_count": 24,
   "metadata": {},
   "outputs": [
    {
     "name": "stdout",
     "output_type": "stream",
     "text": [
      "4742358644819959-4742360036805041\n",
      "4742359328491121-4742359319316369\n",
      "4742359319316369-4742359269247518\n",
      "4753593523243264-4753593497815905\n",
      "4742358292496810-4742358282799248\n",
      "4753580042750549-4753579992945859\n",
      "4745950382528504-4747071388651959\n",
      "4747068533639787-4747068532326999\n",
      "4747068532326999-4747068529183787\n",
      "4747068529183787-4747068528400658\n",
      "4742236736848595-4747068172929020\n",
      "4747063852270089-4747063851747409\n",
      "4747063848081093-4747063847290567\n",
      "4747062282816673-4747062284124369\n",
      "4747062225144781-4747062220948220\n",
      "4747059497796954-4747059486526710\n",
      "4747430937494084-4747430937234658\n",
      "4747430937234658-4747430937757640\n",
      "4747430937757640-4747430938285773\n",
      "4747430249630019-4747430246223268\n",
      "4747430246223268-4747430246225290\n",
      "4747429142336340-4747429142595270\n",
      "4747429142595270-4747429142597029\n",
      "4747429142597029-4747429137881142\n",
      "4747427585723017-4747427569731710\n",
      "4747424741984385-4747424725469026\n",
      "4747423295734454-4747423291543846\n",
      "4747423291543846-4747423287874205\n",
      "4747796239877362-4747796228345217\n",
      "4747793556572217-4747793548182035\n",
      "4746868255100902-4747792155937544\n",
      "4747053785416204-4747053785159019\n",
      "4747051554570359-4747051550641694\n",
      "4747050707062904-4747050698145858\n",
      "4747044612735655-4747044599895426\n",
      "4747417658589502-4747417654923817\n",
      "4747765961198195-4747765957792138\n",
      "4747762702750366-4747762698289691\n",
      "4747761490070297-4747762161680454\n",
      "4747761168419365-4747761154527291\n",
      "4747760018394876-4747760010528742\n",
      "4747759519798328-4747759511670234\n",
      "4747395358002743-4747416609756009\n",
      "4747415632745303-4747415569309584\n",
      "4747755182625067-4747755161654422\n",
      "4747754955608146-4747754939356344\n",
      "4747754939356344-4747754930965908\n",
      "4747753211038129-4747753210515392\n",
      "4747412722424716-4747412717963998\n",
      "4747748492182786-4747748471477348\n",
      "4747747431024933-4747747430766760\n",
      "4747747430766760-4747747427882890\n",
      "4747746327924878-4747746319537457\n",
      "4747745393377496-4747745383944468\n",
      "4747741474849890-4747741378645768\n",
      "4747570599953409-4747740775450015\n",
      "4747410364963145-4747410323278306\n",
      "4747736852989043-4747736816030728\n",
      "4747405885706389-4747405884398731\n",
      "4747189307834429-4747404471438444\n",
      "4747404357932664-4747404303401002\n"
     ]
    }
   ],
   "source": [
    "for id_pairs, sim in similarity_pair_dict.items():\n",
    "    if sim == 1:\n",
    "        print(id_pairs)"
   ]
  },
  {
   "cell_type": "code",
   "execution_count": null,
   "metadata": {},
   "outputs": [],
   "source": []
  },
  {
   "cell_type": "code",
   "execution_count": null,
   "metadata": {},
   "outputs": [],
   "source": []
  },
  {
   "cell_type": "code",
   "execution_count": 33,
   "metadata": {},
   "outputs": [],
   "source": []
  },
  {
   "cell_type": "code",
   "execution_count": null,
   "metadata": {},
   "outputs": [],
   "source": []
  }
 ],
 "metadata": {
  "kernelspec": {
   "display_name": "Python 3",
   "language": "python",
   "name": "python3"
  },
  "language_info": {
   "codemirror_mode": {
    "name": "ipython",
    "version": 3
   },
   "file_extension": ".py",
   "mimetype": "text/x-python",
   "name": "python",
   "nbconvert_exporter": "python",
   "pygments_lexer": "ipython3",
   "version": "3.6.4"
  }
 },
 "nbformat": 4,
 "nbformat_minor": 2
}
