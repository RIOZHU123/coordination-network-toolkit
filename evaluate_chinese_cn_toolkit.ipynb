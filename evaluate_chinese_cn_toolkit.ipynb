{
 "cells": [
  {
   "cell_type": "code",
   "execution_count": 18,
   "metadata": {},
   "outputs": [],
   "source": [
    "import coordination_network_toolkit as coord_net_tk\n",
    "import networkx as nx\n",
    "from coordination_network_toolkit.database import COMMAND_TABLE_MAPPING\n",
    "import sqlite3 as lite\n",
    "import re\n",
    "import regex"
   ]
  },
  {
   "cell_type": "code",
   "execution_count": 19,
   "metadata": {},
   "outputs": [
    {
     "name": "stdout",
     "output_type": "stream",
     "text": [
      "Begin preprocessing ./dataset_test/ukr-rus/preprocess_ukr_weibo.csv into ./dataset_test/ukr-rus/ukraine_weibo.db\n",
      "Done preprocessing ./dataset_test/ukr-rus/preprocess_ukr_weibo.csv into ./dataset_test/ukr-rus/ukraine_weibo.db\n"
     ]
    }
   ],
   "source": [
    "# json_filename = \"./dataset_test/PeopleDaily-toy-dataset/shanghai_covid.json\"\n",
    "\n",
    "csv_filename = \"./dataset_test/ukr-rus/preprocess_ukr_weibo.csv\"\n",
    "\n",
    "ori_csv_filename = \"/Users/guangnanzhu/Desktop/Projects/DECRA-coordnet-nectar/Dataset/Weibo/ukr-rus/result/乌克兰/乌克兰.csv\"\n",
    "\n",
    "save_directory = './dataset_test/ukr-rus/'\n",
    "\n",
    "db_name = save_directory + \"ukraine_weibo.db\"\n",
    "\n",
    "coord_net_tk.preprocess.preprocess_weibo_data(ori_csv_filename, csv_filename)\n",
    "\n",
    "coord_net_tk.preprocess.preprocess_csv_files(db_name, [csv_filename])"
   ]
  },
  {
   "cell_type": "code",
   "execution_count": 20,
   "metadata": {},
   "outputs": [
    {
     "name": "stdout",
     "output_type": "stream",
     "text": [
      "Applying text normalisation for cotweet\n",
      "Ensuring the necessary indexes exists\n",
      "computing co_tweet network\n",
      "Completed 5 / 41\n",
      "Completed 10 / 41\n",
      "Completed 15 / 41\n",
      "Completed 20 / 41\n",
      "Completed 25 / 41\n",
      "Completed 30 / 41\n",
      "Completed 35 / 41\n",
      "Completed 40 / 41\n",
      "Completed 41 / 41\n"
     ]
    },
    {
     "data": {
      "text/plain": [
       "41"
      ]
     },
     "execution_count": 20,
     "metadata": {},
     "output_type": "execute_result"
    }
   ],
   "source": [
    "coord_net_tk.compute_networks.compute_co_tweet_network(db_name, 60, language = 'cn')"
   ]
  },
  {
   "cell_type": "code",
   "execution_count": 21,
   "metadata": {},
   "outputs": [],
   "source": [
    "command = \"co_tweet\""
   ]
  },
  {
   "cell_type": "code",
   "execution_count": 22,
   "metadata": {},
   "outputs": [],
   "source": [
    "similarity_graph = coord_net_tk.graph.load_networkx_graph(db_name, command)"
   ]
  },
  {
   "cell_type": "code",
   "execution_count": 23,
   "metadata": {},
   "outputs": [],
   "source": [
    "coord_net_tk.output.output_gephi_csv(db_name, command, str(save_directory + 'ukraine_weibo_network.csv'))"
   ]
  },
  {
   "cell_type": "code",
   "execution_count": 24,
   "metadata": {},
   "outputs": [],
   "source": [
    "coord_net_tk.output.output_node_csv(db_name, str(save_directory + 'ukraine_weibo_network_node.csv'))"
   ]
  },
  {
   "cell_type": "code",
   "execution_count": 25,
   "metadata": {},
   "outputs": [],
   "source": [
    "coord_net_tk.output.output_graphml(db_name, command, str(save_directory + 'ukraine_weibo.graphml'))"
   ]
  },
  {
   "cell_type": "code",
   "execution_count": null,
   "metadata": {},
   "outputs": [],
   "source": []
  },
  {
   "cell_type": "code",
   "execution_count": null,
   "metadata": {},
   "outputs": [],
   "source": []
  },
  {
   "cell_type": "code",
   "execution_count": 28,
   "metadata": {},
   "outputs": [
    {
     "name": "stdout",
     "output_type": "stream",
     "text": [
      "('1003050992', '2315604141', 1, 'co_tweet')\n",
      "('1074337642', '1401286675', 1, 'co_tweet')\n",
      "('1074337642', '1460923302', 1, 'co_tweet')\n",
      "('1074337642', '1685591353', 1, 'co_tweet')\n",
      "('1074337642', '1751501125', 1, 'co_tweet')\n",
      "Number of Edges: 608\n"
     ]
    }
   ],
   "source": [
    "edges = coord_net_tk.graph.get_edge_rows(db_name, command)\n",
    "counter = 0\n",
    "for e in edges:\n",
    "    if counter < 5:\n",
    "        print(e)  \n",
    "    counter += 1\n",
    "print(\"Number of Edges: \" + str(counter))"
   ]
  },
  {
   "cell_type": "code",
   "execution_count": 29,
   "metadata": {},
   "outputs": [
    {
     "name": "stdout",
     "output_type": "stream",
     "text": [
      "['1000124571', '布道宽窄', '宽窄观察#俄罗斯乌克兰局势#【马斯克放言让俄核武哑火】', '宽窄观察#俄罗斯乌克兰局势#【美国正与乌克兰军事伙伴“完全”共享情报】美国军队为乌克兰军队提供“情报、监视、侦察或任何其他方式的支持”，使得俄罗斯伤亡惨重，战局推进不力。在网络反击上，隐藏在美国驻东欧国家军事基地的美国网络司令部多个“网络任务小组”正在那里干扰俄方对乌克兰的网络攻击、干扰俄军通信。在情报支持领域，美国和德国情报官员根据监听到的俄军通信内容，在卫星图像上勾勾划划，研究俄部队在哪里集结，并在一两小时内将分析结果告知乌军。L布道宽窄的微博', '', '', '', '', '', '', '', '']\n",
      "['1000683583', '飞翔在空中的鱼儿2011', 'IMF：#乌克兰危机#或根本改变全球经济秩序国际货币基金组织（IMF）表示，长期来看，乌克兰危机或将根本改变全球经济和地缘政治秩序。乌克兰危机对全球各地区经济的影响主要通过三个渠道传导：一是食品和能源等大宗商品价格上涨进一步推高通胀，进而侵蚀收入并打击需求；二是与俄罗斯、乌克兰邻近的经济体面临贸易、供应链和汇款中断等问题；三是企业信心下降和不确定性上升对资产价格造成压力，可能导致金融环境收紧和国际资本流出新兴市', '', '', '', '', '', '', '', '', '']\n",
      "['1002224393', '老陶在路上', '乌军打俄军坦克#俄乌局势观察团##v光计划#L老陶在路上的微博视频', '', '', '', '', '', '', '', '', '']\n",
      "['1003050992', '方胜_60891', '//@王强毛巾:比乌克兰人民还悲惨//@一眸荒塘://@孤峰买醉:朗朗乾坤下，还有多少被某些人称为＂丈夫＂的＂撒旦＂呢？', '', '', '', '', '', '', '', '', '']\n",
      "Number of nodes: <generator object get_node_rows at 0x7fa72ed96a98>\n"
     ]
    }
   ],
   "source": [
    "nodes = coord_net_tk.graph.get_node_rows(db_name, n_messages=10)\n",
    "counter = 0\n",
    "for row in nodes:\n",
    "    counter += 1\n",
    "    if counter < 5:\n",
    "        print(row)\n",
    "print(\"Number of nodes: \" + str(nodes))"
   ]
  },
  {
   "cell_type": "code",
   "execution_count": 30,
   "metadata": {},
   "outputs": [
    {
     "name": "stdout",
     "output_type": "stream",
     "text": [
      "{'2315604141', '1003050992'}\n",
      "{'6240828519', '2369213632', '1401286675', '2245177021', '7577364863', '2719233071', '1921805223', '1460923302', '1074337642', '7449732583', '7731301110', '2821797691', '1751501125', '7410362429', '5189250470', '2202735170', '1685591353'}\n",
      "{'1087811515', '1946064754'}\n",
      "{'1233302995', '7498357451'}\n",
      "{'5873139785', '1369270154'}\n"
     ]
    }
   ],
   "source": [
    "# similarity_graph\n",
    "for g_index, g in enumerate(nx.strongly_connected_components(similarity_graph)):\n",
    "    if g_index < 5:\n",
    "        print(g)"
   ]
  },
  {
   "cell_type": "code",
   "execution_count": 31,
   "metadata": {},
   "outputs": [
    {
     "name": "stdout",
     "output_type": "stream",
     "text": [
      "{'2315604141', '1003050992'}\n",
      "{'6240828519', '2369213632', '1401286675', '2245177021', '7577364863', '7410362429', '2719233071', '1921805223', '1460923302', '1074337642', '7731301110', '2821797691', '1751501125', '7449732583', '5189250470', '2202735170', '1685591353'}\n",
      "{'1087811515', '1946064754'}\n",
      "{'1233302995', '7498357451'}\n",
      "{'5873139785', '1369270154'}\n"
     ]
    }
   ],
   "source": [
    "\n",
    "for g_index, g in enumerate(nx.weakly_connected_components(similarity_graph)):\n",
    "    if g_index < 5:\n",
    "        print(g)"
   ]
  },
  {
   "cell_type": "code",
   "execution_count": null,
   "metadata": {},
   "outputs": [],
   "source": []
  },
  {
   "cell_type": "code",
   "execution_count": null,
   "metadata": {},
   "outputs": [],
   "source": []
  },
  {
   "cell_type": "code",
   "execution_count": null,
   "metadata": {},
   "outputs": [],
   "source": []
  },
  {
   "cell_type": "code",
   "execution_count": null,
   "metadata": {},
   "outputs": [],
   "source": []
  },
  {
   "cell_type": "code",
   "execution_count": null,
   "metadata": {},
   "outputs": [],
   "source": []
  },
  {
   "cell_type": "code",
   "execution_count": null,
   "metadata": {},
   "outputs": [],
   "source": []
  },
  {
   "cell_type": "code",
   "execution_count": null,
   "metadata": {},
   "outputs": [],
   "source": []
  },
  {
   "cell_type": "code",
   "execution_count": 32,
   "metadata": {},
   "outputs": [],
   "source": [
    "import pandas as pd"
   ]
  },
  {
   "cell_type": "code",
   "execution_count": 33,
   "metadata": {},
   "outputs": [
    {
     "data": {
      "text/html": [
       "<div>\n",
       "<style scoped>\n",
       "    .dataframe tbody tr th:only-of-type {\n",
       "        vertical-align: middle;\n",
       "    }\n",
       "\n",
       "    .dataframe tbody tr th {\n",
       "        vertical-align: top;\n",
       "    }\n",
       "\n",
       "    .dataframe thead th {\n",
       "        text-align: right;\n",
       "    }\n",
       "</style>\n",
       "<table border=\"1\" class=\"dataframe\">\n",
       "  <thead>\n",
       "    <tr style=\"text-align: right;\">\n",
       "      <th></th>\n",
       "      <th>message_id</th>\n",
       "      <th>user_id</th>\n",
       "      <th>username</th>\n",
       "      <th>repost_id</th>\n",
       "      <th>reply_id</th>\n",
       "      <th>message</th>\n",
       "      <th>timestamp</th>\n",
       "      <th>urls</th>\n",
       "    </tr>\n",
       "  </thead>\n",
       "  <tbody>\n",
       "    <tr>\n",
       "      <th>0</th>\n",
       "      <td>4753594844449805</td>\n",
       "      <td>1044050113</td>\n",
       "      <td>康灵毅</td>\n",
       "      <td>NaN</td>\n",
       "      <td>0</td>\n",
       "      <td>俄罗斯总统普京3月31日签署总统令，对俄“非友好国家和地区”以卢布支付俄罗斯天然气的新规于4...</td>\n",
       "      <td>1648857540000</td>\n",
       "      <td>'https://wx1.sinaimg.cn/large/3e3af0c1ly1h0unx...</td>\n",
       "    </tr>\n",
       "    <tr>\n",
       "      <th>1</th>\n",
       "      <td>4753594513360542</td>\n",
       "      <td>6004371911</td>\n",
       "      <td>军机白虎堂</td>\n",
       "      <td>NaN</td>\n",
       "      <td>7</td>\n",
       "      <td>“亚速营”的末日到了，他们已经被挤在马里乌波尔最后的“钢铁营地”里面，空间所剩无几。据说经过...</td>\n",
       "      <td>1648857480000</td>\n",
       "      <td>'https://wx1.sinaimg.cn/large/006ylJqfgy1h0unw...</td>\n",
       "    </tr>\n",
       "    <tr>\n",
       "      <th>2</th>\n",
       "      <td>4753594820070805</td>\n",
       "      <td>1407286161</td>\n",
       "      <td>暗能量泡泡</td>\n",
       "      <td>4.753595e+15</td>\n",
       "      <td>0</td>\n",
       "      <td>乌克兰军阀化了</td>\n",
       "      <td>1648857480000</td>\n",
       "      <td>NaN</td>\n",
       "    </tr>\n",
       "    <tr>\n",
       "      <th>3</th>\n",
       "      <td>4753594816137257</td>\n",
       "      <td>2675070131</td>\n",
       "      <td>共青团青岛市委</td>\n",
       "      <td>NaN</td>\n",
       "      <td>1</td>\n",
       "      <td>战火首次烧到俄境内！乌克兰两架武直低空潜入突袭俄境内石油设施#乌军机低空攻击俄一石油基地起火...</td>\n",
       "      <td>1648857540000</td>\n",
       "      <td>http://f.video.weibocdn.com/o0/k9nOesRxlx07UWq...</td>\n",
       "    </tr>\n",
       "    <tr>\n",
       "      <th>4</th>\n",
       "      <td>4753462447049014</td>\n",
       "      <td>1861477054</td>\n",
       "      <td>何天恩</td>\n",
       "      <td>NaN</td>\n",
       "      <td>178</td>\n",
       "      <td>蔡正元这个已经说的比较清楚：普京的算盘。。何天恩#俄罗斯将只向友好国家出口粮食#</td>\n",
       "      <td>1648825980000</td>\n",
       "      <td>'https://wx2.sinaimg.cn/large/6ef3e2begy1h0u8q...</td>\n",
       "    </tr>\n",
       "  </tbody>\n",
       "</table>\n",
       "</div>"
      ],
      "text/plain": [
       "         message_id     user_id username     repost_id  reply_id  \\\n",
       "0  4753594844449805  1044050113      康灵毅           NaN         0   \n",
       "1  4753594513360542  6004371911    军机白虎堂           NaN         7   \n",
       "2  4753594820070805  1407286161    暗能量泡泡  4.753595e+15         0   \n",
       "3  4753594816137257  2675070131  共青团青岛市委           NaN         1   \n",
       "4  4753462447049014  1861477054      何天恩           NaN       178   \n",
       "\n",
       "                                             message      timestamp  \\\n",
       "0  俄罗斯总统普京3月31日签署总统令，对俄“非友好国家和地区”以卢布支付俄罗斯天然气的新规于4...  1648857540000   \n",
       "1  “亚速营”的末日到了，他们已经被挤在马里乌波尔最后的“钢铁营地”里面，空间所剩无几。据说经过...  1648857480000   \n",
       "2                                            乌克兰军阀化了  1648857480000   \n",
       "3  战火首次烧到俄境内！乌克兰两架武直低空潜入突袭俄境内石油设施#乌军机低空攻击俄一石油基地起火...  1648857540000   \n",
       "4           蔡正元这个已经说的比较清楚：普京的算盘。。何天恩#俄罗斯将只向友好国家出口粮食#  1648825980000   \n",
       "\n",
       "                                                urls  \n",
       "0  'https://wx1.sinaimg.cn/large/3e3af0c1ly1h0unx...  \n",
       "1  'https://wx1.sinaimg.cn/large/006ylJqfgy1h0unw...  \n",
       "2                                                NaN  \n",
       "3  http://f.video.weibocdn.com/o0/k9nOesRxlx07UWq...  \n",
       "4  'https://wx2.sinaimg.cn/large/6ef3e2begy1h0u8q...  "
      ]
     },
     "execution_count": 33,
     "metadata": {},
     "output_type": "execute_result"
    }
   ],
   "source": [
    "df = pd.read_csv(csv_filename)\n",
    "df.head(5)"
   ]
  },
  {
   "cell_type": "code",
   "execution_count": 34,
   "metadata": {},
   "outputs": [
    {
     "data": {
      "text/html": [
       "<div>\n",
       "<style scoped>\n",
       "    .dataframe tbody tr th:only-of-type {\n",
       "        vertical-align: middle;\n",
       "    }\n",
       "\n",
       "    .dataframe tbody tr th {\n",
       "        vertical-align: top;\n",
       "    }\n",
       "\n",
       "    .dataframe thead th {\n",
       "        text-align: right;\n",
       "    }\n",
       "</style>\n",
       "<table border=\"1\" class=\"dataframe\">\n",
       "  <thead>\n",
       "    <tr style=\"text-align: right;\">\n",
       "      <th></th>\n",
       "      <th>message_id</th>\n",
       "      <th>user_id</th>\n",
       "      <th>username</th>\n",
       "      <th>repost_id</th>\n",
       "      <th>reply_id</th>\n",
       "      <th>message</th>\n",
       "      <th>timestamp</th>\n",
       "      <th>urls</th>\n",
       "    </tr>\n",
       "  </thead>\n",
       "  <tbody>\n",
       "    <tr>\n",
       "      <th>4247</th>\n",
       "      <td>4747792591099976</td>\n",
       "      <td>1074337642</td>\n",
       "      <td>非飞回来了</td>\n",
       "      <td>NaN</td>\n",
       "      <td>0</td>\n",
       "      <td>//@王峻涛6688:公子所言极是。//@知行不合一的沈公子:他的厉害之处，是能够以乌克兰的...</td>\n",
       "      <td>1647467580000</td>\n",
       "      <td>NaN</td>\n",
       "    </tr>\n",
       "    <tr>\n",
       "      <th>4334</th>\n",
       "      <td>4747791928134294</td>\n",
       "      <td>1401286675</td>\n",
       "      <td>红雨伞V</td>\n",
       "      <td>NaN</td>\n",
       "      <td>0</td>\n",
       "      <td>//@王峻涛6688:公子所言极是。//@知行不合一的沈公子:他的厉害之处，是能够以乌克兰的...</td>\n",
       "      <td>1647467580000</td>\n",
       "      <td>NaN</td>\n",
       "    </tr>\n",
       "    <tr>\n",
       "      <th>9293</th>\n",
       "      <td>4747746327924878</td>\n",
       "      <td>1401286675</td>\n",
       "      <td>红雨伞V</td>\n",
       "      <td>4.747709e+15</td>\n",
       "      <td>0</td>\n",
       "      <td>//@深夜一只猫:这就是最直接的官方立场了！尊重乌克兰的主权和领土完整，呼吁立即停止战争！！...</td>\n",
       "      <td>1647454320000</td>\n",
       "      <td>NaN</td>\n",
       "    </tr>\n",
       "  </tbody>\n",
       "</table>\n",
       "</div>"
      ],
      "text/plain": [
       "            message_id     user_id username     repost_id  reply_id  \\\n",
       "4247  4747792591099976  1074337642    非飞回来了           NaN         0   \n",
       "4334  4747791928134294  1401286675     红雨伞V           NaN         0   \n",
       "9293  4747746327924878  1401286675     红雨伞V  4.747709e+15         0   \n",
       "\n",
       "                                                message      timestamp urls  \n",
       "4247  //@王峻涛6688:公子所言极是。//@知行不合一的沈公子:他的厉害之处，是能够以乌克兰的...  1647467580000  NaN  \n",
       "4334  //@王峻涛6688:公子所言极是。//@知行不合一的沈公子:他的厉害之处，是能够以乌克兰的...  1647467580000  NaN  \n",
       "9293  //@深夜一只猫:这就是最直接的官方立场了！尊重乌克兰的主权和领土完整，呼吁立即停止战争！！...  1647454320000  NaN  "
      ]
     },
     "execution_count": 34,
     "metadata": {},
     "output_type": "execute_result"
    }
   ],
   "source": [
    "df[(df['user_id'] == 1074337642) | (df['user_id'] == 1401286675) ]"
   ]
  },
  {
   "cell_type": "code",
   "execution_count": 35,
   "metadata": {},
   "outputs": [],
   "source": [
    "from coordination_network_toolkit.similarity import chinese_preprocessor"
   ]
  },
  {
   "cell_type": "code",
   "execution_count": 36,
   "metadata": {},
   "outputs": [
    {
     "name": "stderr",
     "output_type": "stream",
     "text": [
      "Building prefix dict from the default dictionary ...\n",
      "DEBUG:jieba:Building prefix dict from the default dictionary ...\n",
      "Loading model from cache /var/folders/6n/7ljtnpkd2h10z9k6r0m2psmh0000gn/T/jieba.cache\n",
      "DEBUG:jieba:Loading model from cache /var/folders/6n/7ljtnpkd2h10z9k6r0m2psmh0000gn/T/jieba.cache\n",
      "Loading model cost 0.729 seconds.\n",
      "DEBUG:jieba:Loading model cost 0.729 seconds.\n",
      "Prefix dict has been built successfully.\n",
      "DEBUG:jieba:Prefix dict has been built successfully.\n"
     ]
    }
   ],
   "source": [
    "df['message'] = df['message'].apply(str)\n",
    "df['tokened_text'] = df['message'].apply(chinese_preprocessor)"
   ]
  },
  {
   "cell_type": "code",
   "execution_count": 37,
   "metadata": {},
   "outputs": [
    {
     "data": {
      "text/plain": [
       "0    俄罗斯 罗斯 总统 普京 3 月 31 日 签署 总统 总统令 对 俄 非 友好 国家 和 ...\n",
       "1    亚 速 营 的 末日 到 了 他们 已经 被 挤 在 马里 乌波尔 波尔 最后 的 钢铁 营...\n",
       "2                                        乌克兰 克兰 军阀 化 了\n",
       "3    战火 首次 烧 到 俄 境内 乌克兰 克兰 两架 武 直 低空 潜入 突袭 俄 境内 石油 ...\n",
       "4    蔡 正元 这个 已经 说 的 比较 比较清楚 清楚 普京 的 算盘 何 天恩 俄罗斯 罗斯 ...\n",
       "Name: tokened_text, dtype: object"
      ]
     },
     "execution_count": 37,
     "metadata": {},
     "output_type": "execute_result"
    }
   ],
   "source": [
    "df['tokened_text'].head(5)"
   ]
  },
  {
   "cell_type": "code",
   "execution_count": null,
   "metadata": {},
   "outputs": [],
   "source": []
  },
  {
   "cell_type": "code",
   "execution_count": 38,
   "metadata": {},
   "outputs": [],
   "source": [
    "similarity_pair_dict = dict()\n",
    "\n",
    "for i in range(df.shape[0]-1):\n",
    "    r1_text = df['tokened_text'].iloc[i]\n",
    "    r2_text = df['tokened_text'].iloc[i+1]\n",
    "    \n",
    "    keyname = str(df['message_id'].iloc[i]) + \"-\" + str(df['message_id'].iloc[i+1])\n",
    "    \n",
    "    try:\n",
    "        similarity_pair_dict[keyname] = coord_net_tk.similarity.similarity(r1_text, r2_text)\n",
    "    except ZeroDivisionError:\n",
    "        print(df.iloc[i])\n",
    "        print(df.iloc[i+1])\n",
    "        break\n",
    "    \n",
    "    "
   ]
  },
  {
   "cell_type": "code",
   "execution_count": 39,
   "metadata": {},
   "outputs": [
    {
     "data": {
      "text/plain": [
       "'4742358644819959-4742360036805041'"
      ]
     },
     "execution_count": 39,
     "metadata": {},
     "output_type": "execute_result"
    }
   ],
   "source": [
    "df.sort_values(by=['timestamp'], ascending=True)\n",
    "max(similarity_pair_dict, key=similarity_pair_dict.get)"
   ]
  },
  {
   "cell_type": "code",
   "execution_count": 40,
   "metadata": {},
   "outputs": [
    {
     "data": {
      "text/plain": [
       "[('4753594844449805-4753594513360542', 0.08536585365853659),\n",
       " ('4753594513360542-4753594820070805', 0.005681818181818182),\n",
       " ('4753594820070805-4753594816137257', 0.05405405405405406),\n",
       " ('4753594816137257-4753462447049014', 0.017857142857142856),\n",
       " ('4753462447049014-4753594777863183', 0)]"
      ]
     },
     "execution_count": 40,
     "metadata": {},
     "output_type": "execute_result"
    }
   ],
   "source": [
    "list(similarity_pair_dict.items())[:5]"
   ]
  },
  {
   "cell_type": "code",
   "execution_count": 41,
   "metadata": {},
   "outputs": [
    {
     "data": {
      "text/html": [
       "<div>\n",
       "<style scoped>\n",
       "    .dataframe tbody tr th:only-of-type {\n",
       "        vertical-align: middle;\n",
       "    }\n",
       "\n",
       "    .dataframe tbody tr th {\n",
       "        vertical-align: top;\n",
       "    }\n",
       "\n",
       "    .dataframe thead th {\n",
       "        text-align: right;\n",
       "    }\n",
       "</style>\n",
       "<table border=\"1\" class=\"dataframe\">\n",
       "  <thead>\n",
       "    <tr style=\"text-align: right;\">\n",
       "      <th></th>\n",
       "      <th>user_id</th>\n",
       "      <th>username</th>\n",
       "      <th>message</th>\n",
       "      <th>timestamp</th>\n",
       "      <th>tokened_text</th>\n",
       "    </tr>\n",
       "  </thead>\n",
       "  <tbody>\n",
       "    <tr>\n",
       "      <th>475</th>\n",
       "      <td>1768730480</td>\n",
       "      <td>-T-Wac-</td>\n",
       "      <td>//@林熊猫:🤮🤮🤮//@重工组长于彦舒://@烤肉君KoRu:对于某些嘴脸的认知更立体了呢...</td>\n",
       "      <td>1646069280000</td>\n",
       "      <td></td>\n",
       "    </tr>\n",
       "  </tbody>\n",
       "</table>\n",
       "</div>"
      ],
      "text/plain": [
       "        user_id username                                            message  \\\n",
       "475  1768730480  -T-Wac-  //@林熊猫:🤮🤮🤮//@重工组长于彦舒://@烤肉君KoRu:对于某些嘴脸的认知更立体了呢...   \n",
       "\n",
       "         timestamp tokened_text  \n",
       "475  1646069280000               "
      ]
     },
     "execution_count": 41,
     "metadata": {},
     "output_type": "execute_result"
    }
   ],
   "source": [
    "df[df.message_id == 4742359328491121][['user_id', 'username', 'message', 'timestamp', 'tokened_text']]"
   ]
  },
  {
   "cell_type": "code",
   "execution_count": 42,
   "metadata": {},
   "outputs": [
    {
     "data": {
      "text/html": [
       "<div>\n",
       "<style scoped>\n",
       "    .dataframe tbody tr th:only-of-type {\n",
       "        vertical-align: middle;\n",
       "    }\n",
       "\n",
       "    .dataframe tbody tr th {\n",
       "        vertical-align: top;\n",
       "    }\n",
       "\n",
       "    .dataframe thead th {\n",
       "        text-align: right;\n",
       "    }\n",
       "</style>\n",
       "<table border=\"1\" class=\"dataframe\">\n",
       "  <thead>\n",
       "    <tr style=\"text-align: right;\">\n",
       "      <th></th>\n",
       "      <th>user_id</th>\n",
       "      <th>username</th>\n",
       "      <th>message</th>\n",
       "      <th>timestamp</th>\n",
       "      <th>tokened_text</th>\n",
       "    </tr>\n",
       "  </thead>\n",
       "  <tbody>\n",
       "    <tr>\n",
       "      <th>476</th>\n",
       "      <td>3178921264</td>\n",
       "      <td>Sheungfan</td>\n",
       "      <td>//@妖妖小精://@林熊猫:🤮🤮🤮//@重工组长于彦舒://@烤肉君KoRu:对于某些嘴脸...</td>\n",
       "      <td>1646069280000</td>\n",
       "      <td></td>\n",
       "    </tr>\n",
       "  </tbody>\n",
       "</table>\n",
       "</div>"
      ],
      "text/plain": [
       "        user_id   username                                            message  \\\n",
       "476  3178921264  Sheungfan  //@妖妖小精://@林熊猫:🤮🤮🤮//@重工组长于彦舒://@烤肉君KoRu:对于某些嘴脸...   \n",
       "\n",
       "         timestamp tokened_text  \n",
       "476  1646069280000               "
      ]
     },
     "execution_count": 42,
     "metadata": {},
     "output_type": "execute_result"
    }
   ],
   "source": [
    "df[df.message_id == 4742359319316369][['user_id', 'username', 'message', 'timestamp', 'tokened_text']]"
   ]
  },
  {
   "cell_type": "code",
   "execution_count": 43,
   "metadata": {},
   "outputs": [
    {
     "name": "stdout",
     "output_type": "stream",
     "text": [
      "The 0 -th pairs\n",
      "             username                                         message\n",
      "248  大江户战士OedoSoldier  乌克兰国家安全和国防委员会秘书阿列克谢·丹尼洛夫说，乌克兰可以对白俄罗斯发动预防性导弹袭击。\n",
      "    username                                         message\n",
      "249    烤大绿棒子  乌克兰国家安全和国防委员会秘书阿列克谢·丹尼洛夫说，乌克兰可以对白俄罗斯发动预防性导弹袭击。\n",
      "The 1 -th pairs\n",
      "     username                                            message\n",
      "641  青白江区红十字会  【#俄称美方用乌克兰人进行活体研究#】当地时间3月31日，俄军辐射、化学和生物防护部队司令基...\n",
      "    username                                            message\n",
      "642      广元网  【#俄称美方用乌克兰人进行活体研究#】当地时间3月31日，俄军辐射、化学和生物防护部队司令基...\n",
      "The 2 -th pairs\n",
      "     username                                            message\n",
      "1604    中国基建报  【#美国制裁措施20年增长近10倍#】#深受美国制裁之害的是普通民众#俄乌冲突爆发以来，美国...\n",
      "       username                                            message\n",
      "1605  晋城市中级人民法院  【#美国制裁措施20年增长近10倍#】#深受美国制裁之害的是普通民众#俄乌冲突爆发以来，美国...\n",
      "The 3 -th pairs\n",
      "     username                                            message\n",
      "2044    军迷圈官微  【欧盟或因波兰匈牙利接收乌克兰难民停止防疫拨款】俄乌冲突以来，已有超269万乌克兰难民逃往周...\n",
      "     username                                            message\n",
      "2045   BOOM视频  【欧盟或因波兰匈牙利接收乌克兰难民停止防疫拨款】俄乌冲突以来，已有超269万乌克兰难民逃往周...\n",
      "The 4 -th pairs\n",
      "     username                                            message\n",
      "2045   BOOM视频  【欧盟或因波兰匈牙利接收乌克兰难民停止防疫拨款】俄乌冲突以来，已有超269万乌克兰难民逃往周...\n",
      "     username                                            message\n",
      "2046     新浪军事  【欧盟或因波兰匈牙利接收乌克兰难民停止防疫拨款】俄乌冲突以来，已有超269万乌克兰难民逃往周...\n",
      "The 5 -th pairs\n",
      "     username                                            message\n",
      "2046     新浪军事  【欧盟或因波兰匈牙利接收乌克兰难民停止防疫拨款】俄乌冲突以来，已有超269万乌克兰难民逃往周...\n",
      "     username                                            message\n",
      "2047     辣椒军事  【欧盟或因波兰匈牙利接收乌克兰难民停止防疫拨款】俄乌冲突以来，已有超269万乌克兰难民逃往周...\n",
      "The 6 -th pairs\n",
      "     username                                            message\n",
      "2074    心空身尘2  👍🇨🇳#退伍军人#支持俄罗斯，俄罗斯替天行道。👋世界上没有战斗民族英雄俄罗斯，地球上不会有正...\n",
      "     username                                            message\n",
      "2075    心空身尘2  👍🇨🇳#退伍军人#支持俄罗斯，俄罗斯替天行道。👋世界上没有战斗民族英雄俄罗斯，地球上不会有正...\n",
      "The 7 -th pairs\n",
      "     username                                            message\n",
      "2406   BOOM视频  【#泽连斯基计划在美国国会发表视频演讲#】乌克兰总统泽连斯基计划于16日在美国国会发表视频演...\n",
      "     username                                            message\n",
      "2407    军迷圈官微  【#泽连斯基计划在美国国会发表视频演讲#】乌克兰总统泽连斯基计划于16日在美国国会发表视频演...\n",
      "The 8 -th pairs\n",
      "     username                                            message\n",
      "2410     辣椒军事  【#泽连斯基计划在美国国会发表视频演讲#】乌克兰总统泽连斯基计划于16日在美国国会发表视频演...\n",
      "     username                                            message\n",
      "2411     新浪军事  【#泽连斯基计划在美国国会发表视频演讲#】乌克兰总统泽连斯基计划于16日在美国国会发表视频演...\n",
      "The 9 -th pairs\n",
      "     username                                            message\n",
      "3004     新浪军事  【生前任职RT的美记者被推特追加俄媒标签】据@观察者网消息，美国知名媒体人埃德·舒尔茨（Ed...\n",
      "     username                                            message\n",
      "3005   BOOM视频  【生前任职RT的美记者被推特追加俄媒标签】据@观察者网消息，美国知名媒体人埃德·舒尔茨（Ed...\n",
      "The 10 -th pairs\n",
      "     username                                            message\n",
      "3005   BOOM视频  【生前任职RT的美记者被推特追加俄媒标签】据@观察者网消息，美国知名媒体人埃德·舒尔茨（Ed...\n",
      "     username                                            message\n",
      "3006     辣椒军事  【生前任职RT的美记者被推特追加俄媒标签】据@观察者网消息，美国知名媒体人埃德·舒尔茨（Ed...\n",
      "The 11 -th pairs\n",
      "     username                                            message\n",
      "3006     辣椒军事  【生前任职RT的美记者被推特追加俄媒标签】据@观察者网消息，美国知名媒体人埃德·舒尔茨（Ed...\n",
      "     username                                            message\n",
      "3007    军迷圈官微  【生前任职RT的美记者被推特追加俄媒标签】据@观察者网消息，美国知名媒体人埃德·舒尔茨（Ed...\n",
      "The 12 -th pairs\n",
      "     username                                            message\n",
      "3045    军迷圈官微  【泽连斯基：乌克兰人必须承认不会加入北约的事实】#泽连斯基称不入北约是必须承认的事实#俄罗斯...\n",
      "     username                                            message\n",
      "3046     新浪军事  【泽连斯基：乌克兰人必须承认不会加入北约的事实】#泽连斯基称不入北约是必须承认的事实#俄罗斯...\n",
      "The 13 -th pairs\n",
      "     username                                            message\n",
      "3046     新浪军事  【泽连斯基：乌克兰人必须承认不会加入北约的事实】#泽连斯基称不入北约是必须承认的事实#俄罗斯...\n",
      "     username                                            message\n",
      "3047     辣椒军事  【泽连斯基：乌克兰人必须承认不会加入北约的事实】#泽连斯基称不入北约是必须承认的事实#俄罗斯...\n",
      "The 14 -th pairs\n",
      "     username                                            message\n",
      "3139    军迷圈官微  【“世界最强”狙击手在乌克兰落地成盒？】网传世界最远狙击纪录保持者加拿大狙击手瓦力，在乌克兰...\n",
      "     username                                            message\n",
      "3140     辣椒军事  【“世界最强”狙击手在乌克兰落地成盒？】网传世界最远狙击纪录保持者加拿大狙击手瓦力，在乌克兰...\n",
      "The 15 -th pairs\n",
      "     username                                            message\n",
      "3140     辣椒军事  【“世界最强”狙击手在乌克兰落地成盒？】网传世界最远狙击纪录保持者加拿大狙击手瓦力，在乌克兰...\n",
      "     username                                            message\n",
      "3141   BOOM视频  【“世界最强”狙击手在乌克兰落地成盒？】网传世界最远狙击纪录保持者加拿大狙击手瓦力，在乌克兰...\n",
      "The 16 -th pairs\n",
      "     username                                            message\n",
      "3141   BOOM视频  【“世界最强”狙击手在乌克兰落地成盒？】网传世界最远狙击纪录保持者加拿大狙击手瓦力，在乌克兰...\n",
      "     username                                            message\n",
      "3142     新浪军事  【“世界最强”狙击手在乌克兰落地成盒？】网传世界最远狙击纪录保持者加拿大狙击手瓦力，在乌克兰...\n",
      "The 17 -th pairs\n",
      "      username                                            message\n",
      "3257  老戴外汇交易笔记  休息前提示：因俄乌谈判还在继续，虽然有发出积极的谈和信号但事情重大，不然不会发起这样大规模的...\n",
      "      username                                            message\n",
      "3258  老戴外汇交易笔记  休息前提示：因俄乌谈判还在继续，虽然有发出积极的谈和信号但事情重大，不然不会发起这样大规模的...\n",
      "The 18 -th pairs\n",
      "     username                                            message\n",
      "3651    军迷圈官微  【《环球视线》：俄乌局势最新进展】15日，#俄乌第4轮谈判#恢复进行，目前此轮谈判取得了哪些...\n",
      "     username                                            message\n",
      "3652   BOOM视频  【《环球视线》：俄乌局势最新进展】15日，#俄乌第4轮谈判#恢复进行，目前此轮谈判取得了哪些...\n",
      "The 19 -th pairs\n",
      "     username                                            message\n",
      "3652   BOOM视频  【《环球视线》：俄乌局势最新进展】15日，#俄乌第4轮谈判#恢复进行，目前此轮谈判取得了哪些...\n",
      "     username                                            message\n",
      "3653     辣椒军事  【《环球视线》：俄乌局势最新进展】15日，#俄乌第4轮谈判#恢复进行，目前此轮谈判取得了哪些...\n",
      "The 20 -th pairs\n",
      "     username                 message\n",
      "3800  深山劲松199  普京发表讲话称没有占领乌克兰的计划O网页链接\n",
      "     username                 message\n",
      "3801  深山劲松199  普京发表讲话称没有占领乌克兰的计划O网页链接\n",
      "The 21 -th pairs\n",
      "        username                                            message\n",
      "4117  bright有水则灵  《再向乌克兰提供136亿美元。拜登总统签字为据。这两天俄乌谈判有进展，美国及其代理人急了，不...\n",
      "        username                                            message\n",
      "4118  bright有水则灵  《再向乌克兰提供136亿美元。拜登总统签字为据。这两天俄乌谈判有进展，美国及其代理人急了，不...\n",
      "The 22 -th pairs\n",
      "     username                   message\n",
      "4300    斯图卡九八  俄罗斯上传网络的：乌克兰生物实验室的“候鸟计划”\n",
      "      username                   message\n",
      "4301  天蝎蝴蝶1109  俄罗斯上传网络的：乌克兰生物实验室的“候鸟计划”\n",
      "The 23 -th pairs\n",
      "     username                                            message\n",
      "6496      德小州  #乌媒称俄罗斯提出六条停战条件#乌克兰顿涅茨克市，中心银行的监控摄像头拍摄的乌军“圆点-U”...\n",
      "     username                                            message\n",
      "6497     掌上德州  #乌媒称俄罗斯提出六条停战条件#乌克兰顿涅茨克市，中心银行的监控摄像头拍摄的乌军“圆点-U”...\n",
      "The 24 -th pairs\n",
      "      username                                            message\n",
      "6699  郴州芊芊百合服饰  #谭方宜##谭方宜15903466297##印象郴州谭方宜##郴州谭方宜#情话郴州旅行郴州城...\n",
      "      username                                            message\n",
      "6700  郴州芊芊百合服饰  #谭方宜##谭方宜15903466297##印象郴州谭方宜##郴州谭方宜#情话郴州旅行郴州城...\n",
      "The 25 -th pairs\n",
      "     username                                            message\n",
      "6775    帝国守望者  【露天点映】近日，乌克兰利沃夫的亚沃洛夫军事训练场，被俄军导弹精准打击，初步估计数十人甚至上...\n",
      "     username                                            message\n",
      "6776    帝国守望者  【露天点映】近日，乌克兰利沃夫的亚沃洛夫军事训练场，被俄军导弹精准打击，初步估计数十人甚至上...\n",
      "The 26 -th pairs\n",
      "       username                                            message\n",
      "7318  OK交易所注册返佣  【乌克兰谈判代表表示，与俄罗斯的官方会谈将暂停到周二】3月14日消息，乌克兰谈判代表表示，与...\n",
      "     username                                            message\n",
      "7319   OK__注册  【乌克兰谈判代表表示，与俄罗斯的官方会谈将暂停到周二】3月14日消息，乌克兰谈判代表表示，与...\n",
      "The 27 -th pairs\n",
      "       username                                            message\n",
      "8084  凤凰涅槃般兀自觉醒  俄罗斯总统普京发表电视讲话。普京表示，特别军事行动进展顺利，正在按计划执行。俄军虽然接近基辅...\n",
      "     username                                            message\n",
      "8085    财经新媒体  【俄罗斯总统#普京发表电视讲话#】俄罗斯总统普京发表电视讲话。普京表示，特别军事行动进展顺利...\n",
      "The 28 -th pairs\n",
      "     username         message\n",
      "8122    何新老家伙  乌克兰生物实验完整文件中文版\n",
      "      username         message\n",
      "8123  兰十丽_自然养生  乌克兰生物实验完整文件中文版\n",
      "The 29 -th pairs\n",
      "     username                                            message\n",
      "8197     碧落飞舞  《普京发动在乌克兰的军事行动，显然把它当成了一场百米冲刺，没想到华盛顿带领整个西方鼓舞乌克兰...\n",
      "     username                                            message\n",
      "8198     碧落飞舞  《普京发动在乌克兰的军事行动，显然把它当成了一场百米冲刺，没想到华盛顿带领整个西方鼓舞乌克兰...\n",
      "The 30 -th pairs\n",
      "            username                                            message\n",
      "8278  手机用户2746013760  #凤凰新闻#【赵立坚：是谁拿着一管白色的洗衣粉对伊拉克非法侵略？大家都记得】3月16日，外交...\n",
      "            username                                            message\n",
      "8279  手机用户2746013760  #凤凰新闻#【赵立坚：是谁拿着一管白色的洗衣粉对伊拉克非法侵略？大家都记得】3月16日，外交...\n",
      "The 31 -th pairs\n",
      "      username                                            message\n",
      "8304  延安宝塔2016  #凤凰新闻#【赵立坚：是谁拿着一管白色的洗衣粉对伊拉克非法侵略？大家都记得】3月16日，外交...\n",
      "      username                                            message\n",
      "8305  延安宝塔2016  #凤凰新闻#【赵立坚：是谁拿着一管白色的洗衣粉对伊拉克非法侵略？大家都记得】3月16日，外交...\n",
      "The 32 -th pairs\n",
      "     username           message\n",
      "8489    老巴SMS  乌克兰总统敦促俄军投降#乌克兰#\n",
      "     username        message\n",
      "8490  pikkiyl  #乌克兰总统敦促俄军投降#\n",
      "The 33 -th pairs\n",
      "      username                                            message\n",
      "8672  现货黄金短线建议  关于凌晨的利率决议：目前美联储加息25bp是确定的，加息周期开启也是确定，但关键要看凌晨2点...\n",
      "      username                                            message\n",
      "8673  现货黄金短线建议  关于凌晨的利率决议：目前美联储加息25bp是确定的，加息周期开启也是确定，但关键要看凌晨2点...\n",
      "The 34 -th pairs\n",
      "          username                                            message\n",
      "8712  外汇黄金精准策略-梅超风  关于凌晨的利率决议：目前美联储加息25bp是确定的，加息周期开启也是确定，但关键要看凌晨2点...\n",
      "      username                                            message\n",
      "8713  老戴外汇交易笔记  关于凌晨的利率决议：目前美联储加息25bp是确定的，加息周期开启也是确定，但关键要看凌晨2点...\n",
      "The 35 -th pairs\n",
      "      username                                            message\n",
      "8713  老戴外汇交易笔记  关于凌晨的利率决议：目前美联储加息25bp是确定的，加息周期开启也是确定，但关键要看凌晨2点...\n",
      "      username                                            message\n",
      "8714  老戴外汇交易笔记  关于凌晨的利率决议：目前美联储加息25bp是确定的，加息周期开启也是确定，但关键要看凌晨2点...\n",
      "The 36 -th pairs\n",
      "     username                                            message\n",
      "8878    三倍速科技  【#中国智能手机在俄销量大涨##华为手机在俄销售额增长三倍#】突如其来的俄罗斯对乌克兰特别军...\n",
      "     username                                            message\n",
      "8879     微俄罗斯  【#中国智能手机在俄销量大涨##华为手机在俄销售额增长三倍#】突如其来的俄罗斯对乌克兰特别军...\n",
      "The 37 -th pairs\n",
      "      username                                            message\n",
      "9152  现货黄金短线建议  晚间跟踪：下午建议欧美1.0896以下抢反弹，黄金1941以上顺势沽空，还没有到挂的入场点位...\n",
      "      username                                            message\n",
      "9153  现货黄金短线建议  晚间跟踪：下午建议欧美1.0896以下抢反弹，黄金1941以上顺势沽空，还没有到挂的入场点位...\n",
      "The 38 -th pairs\n",
      "     username                                            message\n",
      "9201    广安同城会  #欧洲三国总理访问基辅#【现场画面曝光！欧洲三国总理向泽连斯基表达欧盟对乌克兰的支持】当地时...\n",
      "     username                                            message\n",
      "9202     广安公益  #欧洲三国总理访问基辅#【现场画面曝光！欧洲三国总理向泽连斯基表达欧盟对乌克兰的支持】当地时...\n",
      "The 39 -th pairs\n",
      "     username                                            message\n",
      "9202     广安公益  #欧洲三国总理访问基辅#【现场画面曝光！欧洲三国总理向泽连斯基表达欧盟对乌克兰的支持】当地时...\n",
      "     username                                            message\n",
      "9203     广安勇哥  #欧洲三国总理访问基辅#【现场画面曝光！欧洲三国总理向泽连斯基表达欧盟对乌克兰的支持】当地时...\n",
      "The 40 -th pairs\n",
      "     username                                            message\n",
      "9654     陆战铁骑  多么痛的领悟啊【#泽连斯基称乌克兰已明白无法加入北约#】15日，乌克兰泽连斯基通过视频方式称...\n",
      "        username                                            message\n",
      "9655  云海茫茫198908  多么痛的领悟啊【#泽连斯基称乌克兰已明白无法加入北约#】15日，乌克兰泽连斯基通过视频方式称...\n",
      "The 41 -th pairs\n",
      "      username                                            message\n",
      "9727  陈英杰69171  【《环球视线》正在播出！#俄乌局势最新进展#】15日，#俄乌第4轮谈判#恢复进行，目前此轮谈...\n",
      "     username                                            message\n",
      "9728     新都资讯  【《环球视线》正在播出！#俄乌局势最新进展#】15日，#俄乌第4轮谈判#恢复进行，目前此轮谈...\n",
      "The 42 -th pairs\n",
      "              username                                            message\n",
      "10156  郴州芊芊百合内衣心理健康专家团  #谭方宜##谭方宜15903466297##印象郴州谭方宜##郴州谭方宜#情话郴州旅行郴州城...\n",
      "              username                                            message\n",
      "10157  郴州芊芊百合内衣心理健康专家团  #谭方宜##谭方宜15903466297##印象郴州谭方宜##郴州谭方宜#情话郴州旅行郴州城...\n",
      "The 43 -th pairs\n",
      "       username                                            message\n",
      "10271  青丘女君白浅上神  【《环球视线》正在播出！#俄乌局势最新进展#】15日，#俄乌第4轮谈判#恢复进行，目前此轮谈...\n",
      "      username                                            message\n",
      "10272    月随风林晚  【《环球视线》正在播出！#俄乌局势最新进展#】15日，#俄乌第4轮谈判#恢复进行，目前此轮谈...\n",
      "The 44 -th pairs\n",
      "      username                                            message\n",
      "10356    中国反邪教  #俄乌局势最新进展#乌克兰总统办公室主任顾问：#第四轮乌俄谈判暂停预计15日继续#（央视）L...\n",
      "      username                                            message\n",
      "10357   太旗政法之声  #俄乌局势最新进展#乌克兰总统办公室主任顾问：#第四轮乌俄谈判暂停预计15日继续#（央视）L...\n"
     ]
    }
   ],
   "source": [
    "index = 0\n",
    "for id_pairs, sim in similarity_pair_dict.items():\n",
    "\n",
    "    if sim == 1:\n",
    "        id_1 = int(id_pairs.split(\"-\")[0])\n",
    "        id_2 = int(id_pairs.split(\"-\")[1])\n",
    "        print(\"The %s -th pairs\" % str(index))\n",
    "        print(df[df.message_id == id_1][['username','message']])\n",
    "        print(df[df.message_id == id_2][['username','message']])\n",
    "        \n",
    "        index += 1"
   ]
  },
  {
   "cell_type": "code",
   "execution_count": 35,
   "metadata": {},
   "outputs": [
    {
     "data": {
      "text/plain": [
       "'//@妖妖小精://@林熊猫:\\U0001f92e\\U0001f92e\\U0001f92e//@重工组长于彦舒://@烤肉君KoRu:对于某些嘴脸的认知更立体了呢//@xiao葉有囍:进一步认识世界//@o0白金0o:笑死，终于原形毕露了//@LynkYin://@JaneMere:欧美白人传统艺能//@卡了蛋儿kk:原形毕露//@夏攻狮:阿富汗人，伊拉克人被杀，行，乌克兰人被杀，不行！'"
      ]
     },
     "execution_count": 35,
     "metadata": {},
     "output_type": "execute_result"
    }
   ],
   "source": [
    "df['message'].iloc[476]"
   ]
  },
  {
   "cell_type": "code",
   "execution_count": 56,
   "metadata": {},
   "outputs": [],
   "source": []
  },
  {
   "cell_type": "code",
   "execution_count": null,
   "metadata": {},
   "outputs": [],
   "source": []
  },
  {
   "cell_type": "code",
   "execution_count": null,
   "metadata": {},
   "outputs": [],
   "source": []
  },
  {
   "cell_type": "code",
   "execution_count": null,
   "metadata": {},
   "outputs": [],
   "source": []
  }
 ],
 "metadata": {
  "kernelspec": {
   "display_name": "Python 3",
   "language": "python",
   "name": "python3"
  },
  "language_info": {
   "codemirror_mode": {
    "name": "ipython",
    "version": 3
   },
   "file_extension": ".py",
   "mimetype": "text/x-python",
   "name": "python",
   "nbconvert_exporter": "python",
   "pygments_lexer": "ipython3",
   "version": "3.6.4"
  }
 },
 "nbformat": 4,
 "nbformat_minor": 2
}
